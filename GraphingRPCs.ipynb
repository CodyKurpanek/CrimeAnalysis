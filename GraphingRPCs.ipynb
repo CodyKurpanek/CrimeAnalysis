{
 "cells": [
  {
   "cell_type": "markdown",
   "id": "fce15760-68a8-4fd7-86ff-502d669a2769",
   "metadata": {},
   "source": [
    "## Set Up Spark Session"
   ]
  },
  {
   "cell_type": "code",
   "execution_count": 1,
   "id": "94bf6dd8-5fbe-4ba0-b3b3-3040e8b06cce",
   "metadata": {},
   "outputs": [
    {
     "name": "stderr",
     "output_type": "stream",
     "text": [
      "24/11/15 03:17:19 WARN SparkSession: Using an existing Spark session; only runtime SQL configurations will take effect.\n"
     ]
    }
   ],
   "source": [
    "from pyspark.sql import SparkSession\n",
    "spark = SparkSession.builder.appName(\"test\").getOrCreate()\n"
   ]
  },
  {
   "cell_type": "markdown",
   "id": "00ae85f5-487b-44f7-abb7-1fe5c0158946",
   "metadata": {},
   "source": [
    "## Authenticate arcgis api for python\n",
    "Use https://ucr.maps.arcgis.com/ to sign in with ucr credentials so you have access to arcgis pro and api development permissions.\n",
    "\n",
    "Then go to content > new item > developer credential > continue > then type in redirect url = urn:ietf:wg:oauth:2.0:oob and url you can use https://localhost. This will create the client_id I believe which is what I used below. Use your own client id in the next cell, and then when you run it it should send you a password link. Type the password link into the box.\n",
    "\n"
   ]
  },
  {
   "cell_type": "code",
   "execution_count": 2,
   "id": "7fc05538-758b-4409-b1f4-be6217b0c77e",
   "metadata": {},
   "outputs": [
    {
     "name": "stdout",
     "output_type": "stream",
     "text": [
      "2.4.0\n",
      "Please sign in to your GIS and paste the code that is obtained below.\n",
      "If a web browser does not automatically open, please navigate to the URL below yourself instead.\n",
      "Opening web browser to navigate to: https://ucr.maps.arcgis.com/sharing/rest/oauth2/authorize?response_type=code&client_id=Sry1p3Nb1sg3fciJ&redirect_uri=urn%3Aietf%3Awg%3Aoauth%3A2.0%3Aoob&state=pPSe2dS5zyy5Ge8y8XgYTHNlri2CQc&allow_verification=false\n"
     ]
    },
    {
     "name": "stderr",
     "output_type": "stream",
     "text": [
      "24/11/15 03:17:31 WARN GarbageCollectionMetrics: To enable non-built-in garbage collector(s) List(G1 Concurrent GC), users should configure it(them) to spark.eventLog.gcMetrics.youngGenerationGarbageCollectors or spark.eventLog.gcMetrics.oldGenerationGarbageCollectors\n"
     ]
    },
    {
     "name": "stdin",
     "output_type": "stream",
     "text": [
      "Enter code obtained on signing in using SAML:  ········\n"
     ]
    }
   ],
   "source": [
    "from arcgis.gis import GIS\n",
    "import arcgis\n",
    "from arcgis.map import Map\n",
    "print(arcgis.__version__)\n",
    "\n",
    "\n",
    "# Authenticate GIS.\n",
    "my_client_id = \"Sry1p3Nb1sg3fciJ\"\n",
    "gis = GIS(\"https://ucr.maps.arcgis.com\", client_id=my_client_id)"
   ]
  },
  {
   "cell_type": "markdown",
   "id": "74d178a3-280e-47c0-959d-c4607d294fa4",
   "metadata": {},
   "source": [
    "## Access featurecollection of riverside reporting districts"
   ]
  },
  {
   "cell_type": "markdown",
   "id": "f3570a8c-ed74-4b59-bf0a-6f91203f0ae4",
   "metadata": {},
   "source": [
    "Using map from owner:\"KPrakah@riversideca.gov_CityOfRiverside\"\n"
   ]
  },
  {
   "cell_type": "code",
   "execution_count": 3,
   "id": "b5c8ee4b-fb0c-4ef4-99b3-9d5a89b13738",
   "metadata": {},
   "outputs": [],
   "source": [
    "# Access a web map of riverside reporting districts (RDs)\n",
    "item = gis.content.get(\"4855e57db5d3430cb94ddd32688ab7b7\")\n",
    "feature_collection = item.layers[0]"
   ]
  },
  {
   "cell_type": "code",
   "execution_count": 4,
   "id": "7186d6e3-789f-41f0-9fb1-dfcaee109441",
   "metadata": {},
   "outputs": [
    {
     "data": {
      "text/plain": [
       "{\"geometry\": {\"rings\": [[[-13059322, 4013797], [-13059306, 4013790], [-13059307, 4013320], [-13059241, 4013320], [-13059241, 4013420], [-13059108, 4013418], [-13059090, 4013415], [-13059128, 4013345], [-13059039, 4013291], [-13059101, 4013120], [-13059306, 4013120], [-13059307, 4011761], [-13061269, 4011727], [-13061268, 4013666], [-13061036, 4013698], [-13060068, 4013920], [-13059782, 4013912], [-13059322, 4013797]]], \"spatialReference\": {\"wkid\": 102100, \"latestWkid\": 3857}}, \"attributes\": {\"FID\": 0, \"OBJECTID\": 1, \"NPC\": \"EAST\", \"NAME\": \"K03\"}}"
      ]
     },
     "execution_count": 4,
     "metadata": {},
     "output_type": "execute_result"
    }
   ],
   "source": [
    "# Update Esri Requirement\n",
    "feature_collection.properties.layerDefinition.htmlPopupType = 'esriServerHTMLPopupTypeAsHTMLText'\n",
    "# Display what a feature looks like. This gets a featureSet from a featureCollection, then displays\n",
    "# the first feature in the feature set.\n",
    "feature_collection.query().features[0]"
   ]
  },
  {
   "cell_type": "markdown",
   "id": "96198d6c-52f2-4238-b094-1b012828e011",
   "metadata": {},
   "source": [
    "## Query Riverside_Crime_reports using Spark by Reporting District"
   ]
  },
  {
   "cell_type": "code",
   "execution_count": 5,
   "id": "0b70a8da-9ff0-43e3-8828-beb8301d8dd9",
   "metadata": {},
   "outputs": [
    {
     "name": "stdout",
     "output_type": "stream",
     "text": [
      "+----+-----+\n",
      "|NAME|Count|\n",
      "+----+-----+\n",
      "| B05|  362|\n",
      "| Z21|   25|\n",
      "| E02|  983|\n",
      "| G12|  367|\n",
      "| 17A|  288|\n",
      "| B01|  416|\n",
      "| I01|  385|\n",
      "| K03|  624|\n",
      "| I06|  488|\n",
      "| D16|  429|\n",
      "| F01| 1060|\n",
      "| I04| 1268|\n",
      "| I14|  162|\n",
      "| F04|  145|\n",
      "| B06|  314|\n",
      "| I03|  850|\n",
      "|   3|    5|\n",
      "| H14| 1800|\n",
      "| A01| 2008|\n",
      "| I02|  804|\n",
      "+----+-----+\n",
      "only showing top 20 rows\n",
      "\n"
     ]
    }
   ],
   "source": [
    "\n",
    "from pyspark.sql.functions import col\n",
    "\n",
    "\n",
    "df = spark.read.csv(\"Riverside_Crime_Reports.csv\", header=True, inferSchema=True)\n",
    "df.columns\n",
    "# Filter rows where crimeType is 'ROBBERY' and group by rpc column, counting the occurrences\n",
    "result = (df.select(\"rd\", \"crimeType\")\n",
    "          .groupBy(\"rd\")\n",
    "          .count()\n",
    "          .select(\"rd\", \"Count\")\n",
    "          .withColumnRenamed(\"rd\", \"NAME\"))\n",
    "\n",
    "# Show the result\n",
    "result.show()\n",
    "pd_crime = result.toPandas()"
   ]
  },
  {
   "cell_type": "markdown",
   "id": "2a78bb3c-1f10-4ba2-a6b5-2360a0e42290",
   "metadata": {},
   "source": [
    "## Merge these counts into the FeatureCollection"
   ]
  },
  {
   "cell_type": "code",
   "execution_count": 6,
   "id": "a2a5d31d-4ac3-41f9-bf09-7ddd520d05c9",
   "metadata": {},
   "outputs": [
    {
     "name": "stdout",
     "output_type": "stream",
     "text": [
      "before:\n"
     ]
    },
    {
     "data": {
      "text/plain": [
       "{\"geometry\": {\"rings\": [[[-13059322, 4013797], [-13059306, 4013790], [-13059307, 4013320], [-13059241, 4013320], [-13059241, 4013420], [-13059108, 4013418], [-13059090, 4013415], [-13059128, 4013345], [-13059039, 4013291], [-13059101, 4013120], [-13059306, 4013120], [-13059307, 4011761], [-13061269, 4011727], [-13061268, 4013666], [-13061036, 4013698], [-13060068, 4013920], [-13059782, 4013912], [-13059322, 4013797]]], \"spatialReference\": {\"wkid\": 102100, \"latestWkid\": 3857}}, \"attributes\": {\"FID\": 0, \"OBJECTID\": 1, \"NPC\": \"EAST\", \"NAME\": \"K03\"}}"
      ]
     },
     "execution_count": 6,
     "metadata": {},
     "output_type": "execute_result"
    }
   ],
   "source": [
    "print(\"before:\")\n",
    "feature_collection.query().features[0]"
   ]
  },
  {
   "cell_type": "code",
   "execution_count": 7,
   "id": "020d435a-0b84-45fc-a57b-b4e6ec393b7c",
   "metadata": {},
   "outputs": [],
   "source": [
    "fset = feature_collection.query()"
   ]
  },
  {
   "cell_type": "code",
   "execution_count": 8,
   "id": "1d599ccc-534a-42f9-9ea8-426b359592b0",
   "metadata": {},
   "outputs": [],
   "source": [
    "import pandas as pd\n",
    "from arcgis.features import FeatureSet\n",
    "\n",
    "#convert featureset to dataframe, merge the dataframes, then convert back to a featureset\n",
    "fset_df = fset.sdf\n",
    "merged_df = pd.merge(pd_crime, fset_df, on=\"NAME\") \n",
    "fset2 = FeatureSet.from_dataframe(merged_df)\n",
    "\n",
    "# create new featurecollection from the featureset\n",
    "from arcgis.features import FeatureCollection\n",
    "feature_collection2 = FeatureCollection.from_featureset(fset2)"
   ]
  },
  {
   "cell_type": "code",
   "execution_count": 9,
   "id": "98ed3340-1243-49e0-97cc-3fcc65c900e4",
   "metadata": {},
   "outputs": [
    {
     "name": "stdout",
     "output_type": "stream",
     "text": [
      "after:\n"
     ]
    },
    {
     "data": {
      "text/plain": [
       "{\"geometry\": {\"rings\": [[[-13058817, 4026512], [-13058816, 4026065], [-13058771, 4026002], [-13058753, 4025929], [-13058765, 4025784], [-13058754, 4025637], [-13058787, 4025537], [-13059786, 4025535], [-13059788, 4026032], [-13060099, 4026103], [-13060299, 4026191], [-13060467, 4026309], [-13060658, 4026518], [-13058817, 4026512]]], \"spatialReference\": {\"wkid\": 102100, \"latestWkid\": 3857}}, \"attributes\": {\"NAME\": \"B05\", \"Count\": 362, \"FID\": 113, \"OBJECTID\": 114, \"NPC\": \"EAST\"}}"
      ]
     },
     "execution_count": 9,
     "metadata": {},
     "output_type": "execute_result"
    }
   ],
   "source": [
    "print(\"after:\")\n",
    "feature_collection2.query().features[0]"
   ]
  },
  {
   "cell_type": "markdown",
   "id": "5bfd2c7a-f903-4e98-b3a7-a3895f111758",
   "metadata": {},
   "source": [
    "## Create a map to display the data. You will be able to click on each reporting district to see statistics."
   ]
  },
  {
   "cell_type": "code",
   "execution_count": 10,
   "id": "e9d184c6-cede-46af-b4f5-732ebfcab6dd",
   "metadata": {},
   "outputs": [],
   "source": [
    "# Create the map using our featureCollection\n",
    "my_map = Map()\n",
    "my_map.basemap.basemap =  \"arcgis-streets\"\n",
    "my_map.content.add(feature_collection2)"
   ]
  },
  {
   "cell_type": "code",
   "execution_count": 11,
   "id": "dfc11b6d-b81b-49be-abc6-c3febbbf31b5",
   "metadata": {},
   "outputs": [
    {
     "data": {
      "text/plain": [
       "True"
      ]
     },
     "execution_count": 11,
     "metadata": {},
     "output_type": "execute_result"
    }
   ],
   "source": [
    "# Update the information that will be shown when clicking on a reporting district\n",
    "\n",
    "from arcgis.map.popups import FieldInfo, PopupExpressionInfo\n",
    "expression_infos = [\n",
    "    PopupExpressionInfo(\n",
    "        title=\"Name\",\n",
    "        expression=\"return $feature.NAME;\"\n",
    "    )\n",
    "]\n",
    "\n",
    "field_infos = [\n",
    "    FieldInfo(\n",
    "        fieldName=\"NAME\",\n",
    "        label=\"Reporting District\",\n",
    "        visible=True\n",
    "    ),\n",
    "    FieldInfo(\n",
    "        fieldName=\"Count\",\n",
    "        label=\"Number of Police Reports\",\n",
    "        visible=True\n",
    "    )\n",
    "]\n",
    "my_map.content.popup(0).edit(title=\"HELLO\", expression_infos=expression_infos, field_infos=field_infos)"
   ]
  },
  {
   "cell_type": "code",
   "execution_count": 12,
   "id": "7864fa6e-340c-49e2-af28-d54a987ab70c",
   "metadata": {},
   "outputs": [
    {
     "data": {
      "application/vnd.jupyter.widget-view+json": {
       "model_id": "eeb3560c308740fab040409c7abedd3a",
       "version_major": 2,
       "version_minor": 1
      },
      "text/plain": [
       "Map(extent={'spatialReference': {'wkid': 102100}, 'xmin': -13087454.153546248, 'ymin': 4009445.945260928, 'xma…"
      ]
     },
     "execution_count": 12,
     "metadata": {},
     "output_type": "execute_result"
    }
   ],
   "source": [
    "# Update starting field of view, and display the map\n",
    "my_map.extent = {'spatialReference': {'wkid': 102100}, 'xmin': -13087454.153546248, 'ymin': 4009445.945260928, 'xmax': -13044725.85473489, 'ymax': 4032377.0537464498}\n",
    "# Display map\n",
    "my_map"
   ]
  },
  {
   "cell_type": "code",
   "execution_count": null,
   "id": "7e1aa3da-b9a8-4691-bbb6-3afc1e483311",
   "metadata": {},
   "outputs": [],
   "source": []
  }
 ],
 "metadata": {
  "kernelspec": {
   "display_name": "my_docker_env",
   "language": "python",
   "name": "my_docker_env"
  },
  "language_info": {
   "codemirror_mode": {
    "name": "ipython",
    "version": 3
   },
   "file_extension": ".py",
   "mimetype": "text/x-python",
   "name": "python",
   "nbconvert_exporter": "python",
   "pygments_lexer": "ipython3",
   "version": "3.12.7"
  }
 },
 "nbformat": 4,
 "nbformat_minor": 5
}
