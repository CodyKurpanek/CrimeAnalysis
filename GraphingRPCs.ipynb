{
 "cells": [
  {
   "cell_type": "markdown",
   "id": "9ac0d0fb-962f-4095-a0c4-fd8744d23184",
   "metadata": {},
   "source": [
    "# Descriptive Run\n"
   ]
  },
  {
   "cell_type": "markdown",
   "id": "fce15760-68a8-4fd7-86ff-502d669a2769",
   "metadata": {},
   "source": [
    "## Set Up Spark Session"
   ]
  },
  {
   "cell_type": "code",
   "execution_count": 1,
   "id": "94bf6dd8-5fbe-4ba0-b3b3-3040e8b06cce",
   "metadata": {},
   "outputs": [
    {
     "name": "stderr",
     "output_type": "stream",
     "text": [
      "24/11/26 05:01:30 WARN SparkSession: Using an existing Spark session; only runtime SQL configurations will take effect.\n"
     ]
    }
   ],
   "source": [
    "from pyspark.sql import SparkSession\n",
    "spark = SparkSession.builder.appName(\"test\").getOrCreate()\n"
   ]
  },
  {
   "cell_type": "markdown",
   "id": "00ae85f5-487b-44f7-abb7-1fe5c0158946",
   "metadata": {},
   "source": [
    "## Authenticate arcgis api for python\n",
    "Use https://ucr.maps.arcgis.com/ to sign in with ucr credentials so you have access to arcgis pro and api development permissions.\n",
    "\n",
    "Then go to content > new item > developer credential > continue > then type in redirect url = urn:ietf:wg:oauth:2.0:oob and url you can use https://localhost. This will create the client_id, which you should paste into the following cell, and then when you run it it should send you a password link. Type the password link into the box.\n",
    "\n"
   ]
  },
  {
   "cell_type": "code",
   "execution_count": 2,
   "id": "7fc05538-758b-4409-b1f4-be6217b0c77e",
   "metadata": {},
   "outputs": [
    {
     "name": "stdout",
     "output_type": "stream",
     "text": [
      "2.4.0\n",
      "Please sign in to your GIS and paste the code that is obtained below.\n",
      "If a web browser does not automatically open, please navigate to the URL below yourself instead.\n",
      "Opening web browser to navigate to: https://ucr.maps.arcgis.com/sharing/rest/oauth2/authorize?response_type=code&client_id=Sry1p3Nb1sg3fciJ&redirect_uri=urn%3Aietf%3Awg%3Aoauth%3A2.0%3Aoob&state=61pZN6vIuglIrVqaCcbzNBNfdlgMuC&allow_verification=false\n"
     ]
    },
    {
     "name": "stdin",
     "output_type": "stream",
     "text": [
      "Enter code obtained on signing in using SAML:  ········\n"
     ]
    },
    {
     "name": "stderr",
     "output_type": "stream",
     "text": [
      "24/11/26 05:01:47 WARN GarbageCollectionMetrics: To enable non-built-in garbage collector(s) List(G1 Concurrent GC), users should configure it(them) to spark.eventLog.gcMetrics.youngGenerationGarbageCollectors or spark.eventLog.gcMetrics.oldGenerationGarbageCollectors\n"
     ]
    }
   ],
   "source": [
    "from arcgis.gis import GIS\n",
    "import arcgis\n",
    "from arcgis.map import Map\n",
    "print(arcgis.__version__)\n",
    "\n",
    "\n",
    "# Authenticate GIS.\n",
    "my_client_id = \"Sry1p3Nb1sg3fciJ\"\n",
    "gis = GIS(\"https://ucr.maps.arcgis.com\", client_id=my_client_id)"
   ]
  },
  {
   "cell_type": "markdown",
   "id": "74d178a3-280e-47c0-959d-c4607d294fa4",
   "metadata": {},
   "source": [
    "## Access featurecollection of riverside reporting districts"
   ]
  },
  {
   "cell_type": "markdown",
   "id": "f3570a8c-ed74-4b59-bf0a-6f91203f0ae4",
   "metadata": {},
   "source": [
    "Using map from owner:\"KPrakah@riversideca.gov_CityOfRiverside\"\n"
   ]
  },
  {
   "cell_type": "code",
   "execution_count": 19,
   "id": "b5c8ee4b-fb0c-4ef4-99b3-9d5a89b13738",
   "metadata": {},
   "outputs": [],
   "source": [
    "# Access a web map of riverside reporting districts (RDs)\n",
    "item = gis.content.get(\"4855e57db5d3430cb94ddd32688ab7b7\")\n",
    "feature_collection = item.layers[0]"
   ]
  },
  {
   "cell_type": "code",
   "execution_count": 20,
   "id": "7186d6e3-789f-41f0-9fb1-dfcaee109441",
   "metadata": {},
   "outputs": [
    {
     "data": {
      "text/plain": [
       "{\"geometry\": {\"rings\": [[[-13059322, 4013797], [-13059306, 4013790], [-13059307, 4013320], [-13059241, 4013320], [-13059241, 4013420], [-13059108, 4013418], [-13059090, 4013415], [-13059128, 4013345], [-13059039, 4013291], [-13059101, 4013120], [-13059306, 4013120], [-13059307, 4011761], [-13061269, 4011727], [-13061268, 4013666], [-13061036, 4013698], [-13060068, 4013920], [-13059782, 4013912], [-13059322, 4013797]]], \"spatialReference\": {\"wkid\": 102100, \"latestWkid\": 3857}}, \"attributes\": {\"FID\": 0, \"OBJECTID\": 1, \"NPC\": \"EAST\", \"NAME\": \"K03\"}}"
      ]
     },
     "execution_count": 20,
     "metadata": {},
     "output_type": "execute_result"
    }
   ],
   "source": [
    "# Update Esri Requirement\n",
    "feature_collection.properties.layerDefinition.htmlPopupType = 'esriServerHTMLPopupTypeAsHTMLText'\n",
    "# Display what a feature looks like. This gets a featureSet from a featureCollection, then displays\n",
    "# the first feature in the feature set.\n",
    "feature_collection.query().features[0]"
   ]
  },
  {
   "cell_type": "markdown",
   "id": "96198d6c-52f2-4238-b094-1b012828e011",
   "metadata": {},
   "source": [
    "## Query Riverside_Crime_reports using Spark by Reporting District"
   ]
  },
  {
   "cell_type": "code",
   "execution_count": 70,
   "id": "0b70a8da-9ff0-43e3-8828-beb8301d8dd9",
   "metadata": {},
   "outputs": [
    {
     "name": "stdout",
     "output_type": "stream",
     "text": [
      "+----+-----+\n",
      "|NAME|Count|\n",
      "+----+-----+\n",
      "| B05|  362|\n",
      "| Z21|   25|\n",
      "| E02|  983|\n",
      "| G12|  367|\n",
      "| 17A|  288|\n",
      "| B01|  416|\n",
      "| I01|  385|\n",
      "| K03|  624|\n",
      "| I06|  488|\n",
      "| D16|  429|\n",
      "| F01| 1060|\n",
      "| I04| 1268|\n",
      "| I14|  162|\n",
      "| F04|  145|\n",
      "| B06|  314|\n",
      "| I03|  850|\n",
      "|   3|    5|\n",
      "| H14| 1800|\n",
      "| A01| 2008|\n",
      "| I02|  804|\n",
      "+----+-----+\n",
      "only showing top 20 rows\n",
      "\n"
     ]
    }
   ],
   "source": [
    "\n",
    "from pyspark.sql.functions import col\n",
    "\n",
    "\n",
    "df = spark.read.csv(\"Riverside_Crime_Reports.csv\", header=True, inferSchema=True)\n",
    "df.columns\n",
    "# Filter rows where crimeType is 'ROBBERY' and group by rpc column, counting the occurrences\n",
    "result = (df.select(\"rd\", \"crimeType\")\n",
    "          .groupBy(\"rd\")\n",
    "          .count()\n",
    "          .select(\"rd\", \"Count\")\n",
    "          .withColumnRenamed(\"rd\", \"NAME\"))\n",
    "\n",
    "# Show the result\n",
    "result.show()\n",
    "pd_crime = result.toPandas()"
   ]
  },
  {
   "cell_type": "markdown",
   "id": "2a78bb3c-1f10-4ba2-a6b5-2360a0e42290",
   "metadata": {},
   "source": [
    "## Merge these counts into the FeatureCollection"
   ]
  },
  {
   "cell_type": "code",
   "execution_count": 71,
   "id": "a2a5d31d-4ac3-41f9-bf09-7ddd520d05c9",
   "metadata": {},
   "outputs": [
    {
     "name": "stdout",
     "output_type": "stream",
     "text": [
      "before:\n"
     ]
    },
    {
     "data": {
      "text/plain": [
       "{\"geometry\": {\"rings\": [[[-13059322, 4013797], [-13059306, 4013790], [-13059307, 4013320], [-13059241, 4013320], [-13059241, 4013420], [-13059108, 4013418], [-13059090, 4013415], [-13059128, 4013345], [-13059039, 4013291], [-13059101, 4013120], [-13059306, 4013120], [-13059307, 4011761], [-13061269, 4011727], [-13061268, 4013666], [-13061036, 4013698], [-13060068, 4013920], [-13059782, 4013912], [-13059322, 4013797]]], \"spatialReference\": {\"wkid\": 102100, \"latestWkid\": 3857}}, \"attributes\": {\"FID\": 0, \"OBJECTID\": 1, \"NPC\": \"EAST\", \"NAME\": \"K03\"}}"
      ]
     },
     "execution_count": 71,
     "metadata": {},
     "output_type": "execute_result"
    }
   ],
   "source": [
    "print(\"before:\")\n",
    "feature_collection.query().features[0]"
   ]
  },
  {
   "cell_type": "code",
   "execution_count": 74,
   "id": "020d435a-0b84-45fc-a57b-b4e6ec393b7c",
   "metadata": {},
   "outputs": [
    {
     "data": {
      "text/plain": [
       "0    {\"rings\": [[[-13059322, 4013797], [-13059306, ...\n",
       "1    {\"rings\": [[[-13061268, 4013817], [-13061269, ...\n",
       "2    {\"rings\": [[[-13073478, 4013648], [-13074932, ...\n",
       "3    {\"rings\": [[[-13076145, 4014008], [-13076824, ...\n",
       "4    {\"rings\": [[[-13068909, 4015593], [-13067078, ...\n",
       "Name: SHAPE, dtype: geometry"
      ]
     },
     "execution_count": 74,
     "metadata": {},
     "output_type": "execute_result"
    }
   ],
   "source": [
    "fset = feature_collection.query().sdf['SHAPE'].head()\n",
    "fset"
   ]
  },
  {
   "cell_type": "code",
   "execution_count": 34,
   "id": "1d599ccc-534a-42f9-9ea8-426b359592b0",
   "metadata": {},
   "outputs": [],
   "source": [
    "import pandas as pd\n",
    "from arcgis.features import FeatureSet\n",
    "\n",
    "#convert featureset to dataframe, merge the dataframes, then convert back to a featureset\n",
    "fset_df = fset.sdf\n",
    "merged_df = pd.merge(pd_crime, fset_df, on=\"NAME\") \n",
    "fset2 = FeatureSet.from_dataframe(merged_df)\n",
    "\n",
    "# create new featurecollection from the featureset\n",
    "from arcgis.features import FeatureCollection\n",
    "feature_collection2 = FeatureCollection.from_featureset(fset2)"
   ]
  },
  {
   "cell_type": "code",
   "execution_count": 35,
   "id": "98ed3340-1243-49e0-97cc-3fcc65c900e4",
   "metadata": {},
   "outputs": [
    {
     "name": "stdout",
     "output_type": "stream",
     "text": [
      "after:\n"
     ]
    },
    {
     "data": {
      "text/plain": [
       "{\"geometry\": {\"rings\": [[[-13058817, 4026512], [-13058816, 4026065], [-13058771, 4026002], [-13058753, 4025929], [-13058765, 4025784], [-13058754, 4025637], [-13058787, 4025537], [-13059786, 4025535], [-13059788, 4026032], [-13060099, 4026103], [-13060299, 4026191], [-13060467, 4026309], [-13060658, 4026518], [-13058817, 4026512]]], \"spatialReference\": {\"wkid\": 102100, \"latestWkid\": 3857}}, \"attributes\": {\"NAME\": \"B05\", \"Count\": 362, \"FID\": 113, \"OBJECTID\": 114, \"NPC\": \"EAST\"}}"
      ]
     },
     "execution_count": 35,
     "metadata": {},
     "output_type": "execute_result"
    }
   ],
   "source": [
    "print(\"after:\")\n",
    "\n",
    "feature_collection2.query().features[0]"
   ]
  },
  {
   "cell_type": "markdown",
   "id": "5bfd2c7a-f903-4e98-b3a7-a3895f111758",
   "metadata": {},
   "source": [
    "## Create a map to display the data. You will be able to click on each reporting district to see statistics."
   ]
  },
  {
   "cell_type": "code",
   "execution_count": 36,
   "id": "e9d184c6-cede-46af-b4f5-732ebfcab6dd",
   "metadata": {},
   "outputs": [],
   "source": [
    "# Create the map using our featureCollection\n",
    "my_map = Map()\n",
    "my_map.basemap.basemap =  \"arcgis-streets\"\n",
    "my_map.content.add(feature_collection2)"
   ]
  },
  {
   "cell_type": "code",
   "execution_count": 37,
   "id": "dfc11b6d-b81b-49be-abc6-c3febbbf31b5",
   "metadata": {},
   "outputs": [
    {
     "data": {
      "text/plain": [
       "True"
      ]
     },
     "execution_count": 37,
     "metadata": {},
     "output_type": "execute_result"
    }
   ],
   "source": [
    "\n",
    "# Update the information that will be shown when clicking on a reporting district\n",
    "\n",
    "from arcgis.map.popups import FieldInfo, PopupExpressionInfo\n",
    "expression_infos = [\n",
    "    PopupExpressionInfo(\n",
    "        title=\"Name\",\n",
    "        expression=\"return $feature.NAME;\"\n",
    "    )\n",
    "]\n",
    "\n",
    "field_infos = [\n",
    "    FieldInfo(\n",
    "        fieldName=\"NAME\",\n",
    "        label=\"Reporting District\",\n",
    "        visible=True\n",
    "    ),\n",
    "    FieldInfo(\n",
    "        fieldName=\"Count\",\n",
    "        label=\"Number of Police Reports\",\n",
    "        visible=True\n",
    "    )\n",
    "]\n",
    "my_map.content.popup(0).edit(title=\"HELLO\", expression_infos=expression_infos, field_infos=field_infos)"
   ]
  },
  {
   "cell_type": "code",
   "execution_count": 42,
   "id": "7864fa6e-340c-49e2-af28-d54a987ab70c",
   "metadata": {},
   "outputs": [
    {
     "data": {
      "application/vnd.jupyter.widget-view+json": {
       "model_id": "8347e94855e7470885b73d0f862daa16",
       "version_major": 2,
       "version_minor": 0
      },
      "text/plain": [
       "VBox(children=(Dropdown(description='Layer:', options=('Layer 2', 'Layer 1'), value='Layer 2'), Map(center=[-1…"
      ]
     },
     "execution_count": 42,
     "metadata": {},
     "output_type": "execute_result"
    }
   ],
   "source": [
    "import ipywidgets as widgets\n",
    "\n",
    "\n",
    "layer_selector = widgets.Dropdown(\n",
    "    options={\n",
    "        \"Layer 1\",\n",
    "        \"Layer 2\"\n",
    "    },\n",
    "    description=\"Layer:\"\n",
    ")\n",
    "\n",
    "\n",
    "\n",
    "# Update starting field of view, and display the map\n",
    "my_map.extent = {'spatialReference': {'wkid': 102100}, 'xmin': -13087454.153546248, 'ymin': 4009445.945260928, 'xmax': -13044725.85473489, 'ymax': 4032377.0537464498}\n",
    "\n",
    "widgets.VBox([layer_selector, my_map])\n",
    "# # Display map\n",
    "# my_map\n"
   ]
  },
  {
   "cell_type": "markdown",
   "id": "7b270c40-3e8a-4b87-8a3e-918ce2aec3cc",
   "metadata": {},
   "source": [
    "# Here is the more organized but less descritpive rundown. It is organized as follows:\n"
   ]
  },
  {
   "cell_type": "markdown",
   "id": "e8ee0fff-2e8b-4d6c-8f16-1b027e77f35c",
   "metadata": {},
   "source": [
    "# Authenticate"
   ]
  },
  {
   "cell_type": "code",
   "execution_count": 1,
   "id": "010155c6-e88f-461e-ad89-3ff9f38f92ab",
   "metadata": {},
   "outputs": [
    {
     "name": "stderr",
     "output_type": "stream",
     "text": [
      "24/11/26 06:41:51 WARN SparkSession: Using an existing Spark session; only runtime SQL configurations will take effect.\n"
     ]
    }
   ],
   "source": [
    "from pyspark.sql import SparkSession\n",
    "spark = SparkSession.builder.appName(\"test\").getOrCreate()"
   ]
  },
  {
   "cell_type": "markdown",
   "id": "e4ffb442-28dc-494a-a3b9-142f293a5291",
   "metadata": {},
   "source": [
    "\n",
    "Use https://ucr.maps.arcgis.com/ to sign in with ucr credentials so you have access to arcgis pro and api development permissions.\n",
    "\n",
    "Then go to content > new item > developer credential > continue > then type in redirect url = urn:ietf:wg:oauth:2.0:oob and url you can use https://localhost. This will create the client_id I believe which is what I used below. Use your own client id in the next cell, and then when you run it it should send you a password link. Type the password link into the box."
   ]
  },
  {
   "cell_type": "code",
   "execution_count": 2,
   "id": "638f55ca-0013-41e0-a269-fdefbaad9f54",
   "metadata": {},
   "outputs": [
    {
     "name": "stderr",
     "output_type": "stream",
     "text": [
      "24/11/26 06:41:56 WARN GarbageCollectionMetrics: To enable non-built-in garbage collector(s) List(G1 Concurrent GC), users should configure it(them) to spark.eventLog.gcMetrics.youngGenerationGarbageCollectors or spark.eventLog.gcMetrics.oldGenerationGarbageCollectors\n"
     ]
    },
    {
     "name": "stdout",
     "output_type": "stream",
     "text": [
      "2.4.0\n",
      "Please sign in to your GIS and paste the code that is obtained below.\n",
      "If a web browser does not automatically open, please navigate to the URL below yourself instead.\n",
      "Opening web browser to navigate to: https://ucr.maps.arcgis.com/sharing/rest/oauth2/authorize?response_type=code&client_id=Sry1p3Nb1sg3fciJ&redirect_uri=urn%3Aietf%3Awg%3Aoauth%3A2.0%3Aoob&state=tA8c992H8UxIbt5oUNJJYIa0VuLFxO&allow_verification=false\n"
     ]
    },
    {
     "name": "stdin",
     "output_type": "stream",
     "text": [
      "Enter code obtained on signing in using SAML:  ········\n"
     ]
    }
   ],
   "source": [
    "from arcgis.gis import GIS\n",
    "import arcgis\n",
    "from arcgis.map import Map\n",
    "print(arcgis.__version__)\n",
    "\n",
    "\n",
    "# Authenticate GIS.\n",
    "my_client_id = \"Sry1p3Nb1sg3fciJ\"\n",
    "gis = GIS(\"https://ucr.maps.arcgis.com\", client_id=my_client_id)"
   ]
  },
  {
   "cell_type": "markdown",
   "id": "a0e0c866-df3c-4116-8764-b1cb54482448",
   "metadata": {},
   "source": [
    "# Global Data"
   ]
  },
  {
   "cell_type": "code",
   "execution_count": 3,
   "id": "cfb8551e-eec1-4d66-9ff3-4024a7465eaa",
   "metadata": {},
   "outputs": [],
   "source": [
    "    crimeTypes = ['DRUG ABUSE VIOLATIONS', 'OTHER: DUI', 'ASSAULT: Other Assaults',\n",
    "           'OTHER: All Other Offenses', 'WEAPONS: Carrying, Possessing, etc.',\n",
    "           'Other Assaults - Not Aggravated',\n",
    "           'ASSAULT: Knife or cutting instrument', 'THEFT: Shoplifting',\n",
    "           'THEFT: Theft from motor vehicle', 'ASSAULT: Firearm',\n",
    "           'SEX CRIMES: Sex Offenses', 'OTHER: Stolen Property',\n",
    "           'FRAUD: Other Fraud', 'FRAUD: Forgery & Counterfeiting',\n",
    "           'VANDALISM: Vandalism', 'MOTOR VEH. THEFT: Other vehicles',\n",
    "           'BURGLARY: Forcible entry', 'DRUG ABUSE VIOLATIONS: Drunkenness',\n",
    "           'FRAUD: Embezzlement', 'THEFT: All other larceny',\n",
    "           'MOTOR VEH. THEFT: Autos', 'MOTOR VEH. THEFT: Trucks and buses',\n",
    "           'ASSAULT: Strong-Arm', 'ASSAULT: Other dangerous weapon',\n",
    "           'ROBBERY: Firearm', 'ROBBERY: Strong-Arm',\n",
    "           'THEFT: Theft of motor vehicle parts or accessories',\n",
    "           'THEFT: Theft of bicycles', 'BURGLARY: Unlawful entry - no force',\n",
    "           'SEX CRIMES: Sexual Assault', 'OTHER: Offenses Against Family',\n",
    "           'THEFT: Theft from buildings',\n",
    "           'THEFT: Theft from coin-operated machine or device',\n",
    "           'DISTURBING THE PEACE: Disorderly Conduct',\n",
    "           'THEFT: Pocket picking', 'BURGLARY: Attempted forcible entry',\n",
    "           'ROBBERY: Knife or cutting instrument',\n",
    "           'OTHER: Curfew and Loitering',\n",
    "           'DRUG ABUSE VIOLATIONS: Liquor Laws',\n",
    "           'HOMICIDE: Murder & non-negligent manslaughter', 'GAMBLING',\n",
    "           'ROBBERY: Other dangerous weapon', 'SEX CRIMES: Prostitution/Vice',\n",
    "           'THEFT: Purse snatching', 'DRIVING UNDER THE INFLUENCE',\n",
    "           'DESTRUCTION / DAMAGE / VANDALISM OF PROPERTY', 'SIMPLE ASSAULT',\n",
    "           'ALL OTHER OFFENSES', 'WEAPON LAW VIOLATIONS',\n",
    "           'FAMILY OFFENSES, NONVIOLENT', 'BURGLARY/BREAKING AND ENTERING',\n",
    "           'AGGRAVATED ASSAULT',\n",
    "           'THEFT OF MOTOR VEHICLE PARTS OR ACCESSORIES', 'ALL OTHER LARCENY',\n",
    "           'CREDITCARD / AUTOMATED TELLER MACHINE FRAUD', 'SHOPLIFTING',\n",
    "           'DISORDERLY CONDUCT', 'MOTOR VEHICLE THEFT',\n",
    "           'KIDNAPPING / ABDUCTION', 'STOLEN PROPERTY OFFENSES',\n",
    "           'THEFT FROM BUILDING', 'FALSEPRETENSES / SWINDLE / CONFIDENCEGAME',\n",
    "           'TRESPASS OF REAL PROPERTY', 'ROBBERY', 'IDENTITYTHEFT',\n",
    "           'DRUG EQUIPMENT VIOLATIONS', 'IMPERSONATION',\n",
    "           'DRUG NARCOTIC VIOLATIONS', 'THEFT FROM MOTOR VEHICLE',\n",
    "           'SEX CRIMES', 'POCKET-PICKING', 'EMBEZZLEMENT',\n",
    "           'HACKING / COMPUTERINVASION', 'COUNTERFEITING / FORGERY',\n",
    "           'LIQUOR LAW VIOLATIONS', 'INTIMIDATION',\n",
    "           'PORNOGRAPHY / OBSCENEMATERIAL',\n",
    "           'CURFEW / LOITERING / VAGRANCY VIOLATIONS',\n",
    "           'EXTORTION / BLACKMAIL', 'PROSTITUTION', 'WELFAREFRAUD',\n",
    "           'MURDER AND NON-NEGLIGENT MANSLAUGHTER', 'ARSON',\n",
    "           'THEFT FROM COIN-OPERATED MACHINE OR DEVICE', 'ANIMAL CRUELTY',\n",
    "           'PURSE-SNATCHING', 'HUMANTRAFFICKING ,SERVITUDE INVOLUNTARY',\n",
    "           'WIREFRAUD', 'OPERATING / PROMOTING / ASSISTING GAMBLING']"
   ]
  },
  {
   "cell_type": "markdown",
   "id": "1099b9e1-766d-4d85-a41c-0093ee9443c5",
   "metadata": {},
   "source": [
    "# Create Police Report Dataframe"
   ]
  },
  {
   "cell_type": "code",
   "execution_count": 4,
   "id": "9dd22566-b258-4d18-a0d2-2a422434af08",
   "metadata": {
    "scrolled": true
   },
   "outputs": [
    {
     "name": "stderr",
     "output_type": "stream",
     "text": [
      "                                                                                \r"
     ]
    },
    {
     "data": {
      "text/plain": [
       "Row(caseNumber=200000046, reportDate=datetime.date(2020, 1, 1), offenseDate=datetime.date(2020, 1, 1), callTime=datetime.datetime(2024, 11, 26, 15, 27, 51), crimeType='DRUG ABUSE VIOLATIONS', premise='HIGHWAYS', blockAddress='Sagittarius Dr / Boundary Ln', rd='J14', npc='WEST', _id=146205)"
      ]
     },
     "execution_count": 4,
     "metadata": {},
     "output_type": "execute_result"
    }
   ],
   "source": [
    "def create_report_dataframe():\n",
    "    df = spark.read.csv(\"Riverside_Crime_Reports.csv\", header=True, inferSchema=True)\n",
    "    return df\n",
    "crime_df = create_report_dataframe()\n",
    "crime_df.head()"
   ]
  },
  {
   "cell_type": "markdown",
   "id": "5f53aac3-b36a-4b0e-97e1-851f8193d6fb",
   "metadata": {},
   "source": [
    "# Create shape dataframe"
   ]
  },
  {
   "cell_type": "code",
   "execution_count": 5,
   "id": "1bb14629-a65f-4bd4-adbd-ab8f97472dd6",
   "metadata": {},
   "outputs": [],
   "source": [
    "# crime_df.toPandas()[\"blockAddress\"].unique()\n",
    "from arcgis.geometry import Point\n",
    "from arcgis.geocoding import geocode\n",
    "# geocode('Sagittarius Dr / Boundary Ln, Riverside, CA')[0]\n",
    "\n",
    "def geocode_block_address(block_address: str):\n",
    "    if not block_address or not isinstance(block_address, str):  # Check for None or invalid input\n",
    "        return None  # Return None for invalid addresses\n",
    "\n",
    "    try:\n",
    "        # Perform geocoding\n",
    "        # results = geocode({\"Street\": block_address, \"City\": \"Riverside\", \"State\": \"CA\"})\n",
    "        # print({\"Street\": block_address, \"City\": \"Riverside\", \"State\": \"CA\"})\n",
    "        results = geocode(block_address, \", Riverside, CA\")\n",
    "        if len(results) == 0:\n",
    "            return None\n",
    "        best_result = results[0]\n",
    "        print(best_result)\n",
    "        best_result['location'].update({\"spatialReference\": {\"wkid\": 4326}})\n",
    "        return Point(best_result['location'])\n",
    "    except Exception as e:\n",
    "        # Handle geocoding errors\n",
    "        print(f\"Error geocoding address '{block_address}': {e}\")\n",
    "        raise RuntimeError(\"Probably need to restart execution of this cell after re-authenticating arcgis.\")\n",
    "        return None\n",
    "\n"
   ]
  },
  {
   "cell_type": "code",
   "execution_count": 6,
   "id": "e0afccbc-b24b-4105-bb84-440174946467",
   "metadata": {},
   "outputs": [
    {
     "name": "stdout",
     "output_type": "stream",
     "text": [
      "Loaded geocoded points from file.\n"
     ]
    }
   ],
   "source": [
    "\n",
    "import pandas as pd\n",
    "from arcgis.features import FeatureSet\n",
    "def create_shape_dataframe():\n",
    "    # Access a web map of riverside reporting districts (RDs)\n",
    "    item = gis.content.get(\"4855e57db5d3430cb94ddd32688ab7b7\")\n",
    "    feature_collection = item.layers[0]\n",
    "    # Update Esri Requirement\n",
    "    feature_collection.properties.layerDefinition.htmlPopupType = 'esriServerHTMLPopupTypeAsHTMLText'\n",
    "    \n",
    "    fset = feature_collection.query()\n",
    "    fset_df = fset.sdf\n",
    "    return fset_df[['NAME', 'SHAPE']].rename(columns={\"NAME\": \"rd\"})\n",
    "\n",
    "\n",
    "import pickle\n",
    "\n",
    "\n",
    "def create_point_dataframe(crime_df, file_path = ''):\n",
    "    \n",
    "    crime_df_pd = crime_df.toPandas()\n",
    "    invalid_points = []\n",
    "    \n",
    "    if os.path.exists(file_path):\n",
    "        with open(file_path, 'rb') as file:\n",
    "            geocoded_points = pickle.load(file)\n",
    "        print(\"Loaded geocoded points from file.\")\n",
    "    else:\n",
    "        print(\"Cannot find file with pre-generated geocodings. Geocoding all points. This may take a while and require re-authenticating arcgis. Consider uploading the file containing the correct geocoded locations.\")\n",
    "        geocoded_points = {}\n",
    "    \n",
    "    \n",
    "    # Go through every block address. Remembering invalid points for error checking with response not available\n",
    "    for i, blk_address in enumerate(crime_df_pd['blockAddress']):\n",
    "        if i % 500 == 0:\n",
    "            with open(file_path, 'wb') as file:\n",
    "                pickle.dump(geocoded_points, file)\n",
    "    \n",
    "        if blk_address in geocoded_points:\n",
    "            continue\n",
    "        else:\n",
    "            geocoded_point = geocode_block_address(blk_address)\n",
    "            geocoded_points[blk_address] = geocoded_point\n",
    "        if geocoded_point is None:\n",
    "            invalid_points.append(i)\n",
    "    \n",
    "    with open(file_path, 'wb') as file:\n",
    "        pickle.dump(geocoded_points, file)\n",
    "\n",
    "    \n",
    "    blockAddress_geometry = pd.DataFrame({'blockAddress': crime_df.toPandas()['blockAddress'].unique()})\n",
    "    blockAddress_geometry['SHAPE'] = blockAddress_geometry['blockAddress'].apply(lambda blk_address: geocoded_points[blk_address])\n",
    "    return blockAddress_geometry\n",
    "\n",
    "blockAddress_geometry = create_point_dataframe(crime_df, \"geocoded_points.pkl\")    \n",
    "rd_geometry = create_shape_dataframe()"
   ]
  },
  {
   "cell_type": "code",
   "execution_count": 7,
   "id": "c312f24a-62bf-4ee6-92f5-c9ea6181065c",
   "metadata": {},
   "outputs": [
    {
     "data": {
      "text/html": [
       "<div>\n",
       "<style scoped>\n",
       "    .dataframe tbody tr th:only-of-type {\n",
       "        vertical-align: middle;\n",
       "    }\n",
       "\n",
       "    .dataframe tbody tr th {\n",
       "        vertical-align: top;\n",
       "    }\n",
       "\n",
       "    .dataframe thead th {\n",
       "        text-align: right;\n",
       "    }\n",
       "</style>\n",
       "<table border=\"1\" class=\"dataframe\">\n",
       "  <thead>\n",
       "    <tr style=\"text-align: right;\">\n",
       "      <th></th>\n",
       "      <th>blockAddress</th>\n",
       "      <th>SHAPE</th>\n",
       "    </tr>\n",
       "  </thead>\n",
       "  <tbody>\n",
       "    <tr>\n",
       "      <th>0</th>\n",
       "      <td>Sagittarius Dr / Boundary Ln</td>\n",
       "      <td>{'x': -117.456645469102, 'y': 33.895308997468,...</td>\n",
       "    </tr>\n",
       "    <tr>\n",
       "      <th>1</th>\n",
       "      <td>10300 BLOCK CAMPBELL AVE</td>\n",
       "      <td>{'x': -117.478330717128, 'y': 33.936321735676,...</td>\n",
       "    </tr>\n",
       "    <tr>\n",
       "      <th>2</th>\n",
       "      <td>5800 BLOCK CHALLEN AVE</td>\n",
       "      <td>{'x': -117.46579873813, 'y': 33.941310611459, ...</td>\n",
       "    </tr>\n",
       "    <tr>\n",
       "      <th>3</th>\n",
       "      <td>E Alessandro Blvd / Mission Grove Pkwy</td>\n",
       "      <td>{'x': -117.330934916792, 'y': 33.917409046214,...</td>\n",
       "    </tr>\n",
       "    <tr>\n",
       "      <th>4</th>\n",
       "      <td>2900 BLOCK MARY ST</td>\n",
       "      <td>{'x': -117.38877287487, 'y': 33.936060077028, ...</td>\n",
       "    </tr>\n",
       "  </tbody>\n",
       "</table>\n",
       "</div>"
      ],
      "text/plain": [
       "                             blockAddress  \\\n",
       "0            Sagittarius Dr / Boundary Ln   \n",
       "1                10300 BLOCK CAMPBELL AVE   \n",
       "2                  5800 BLOCK CHALLEN AVE   \n",
       "3  E Alessandro Blvd / Mission Grove Pkwy   \n",
       "4                      2900 BLOCK MARY ST   \n",
       "\n",
       "                                               SHAPE  \n",
       "0  {'x': -117.456645469102, 'y': 33.895308997468,...  \n",
       "1  {'x': -117.478330717128, 'y': 33.936321735676,...  \n",
       "2  {'x': -117.46579873813, 'y': 33.941310611459, ...  \n",
       "3  {'x': -117.330934916792, 'y': 33.917409046214,...  \n",
       "4  {'x': -117.38877287487, 'y': 33.936060077028, ...  "
      ]
     },
     "execution_count": 7,
     "metadata": {},
     "output_type": "execute_result"
    }
   ],
   "source": [
    "blockAddress_geometry.head()"
   ]
  },
  {
   "cell_type": "markdown",
   "id": "807a0175-8456-4506-948a-cdea215a0919",
   "metadata": {},
   "source": [
    "# Query Police Report Dataframe"
   ]
  },
  {
   "cell_type": "code",
   "execution_count": 8,
   "id": "52ebb07e-8e5f-4b75-88ea-5129b1b09a60",
   "metadata": {},
   "outputs": [
    {
     "name": "stdout",
     "output_type": "stream",
     "text": [
      "Querying Finished\n"
     ]
    },
    {
     "name": "stderr",
     "output_type": "stream",
     "text": [
      "                                                                                \r"
     ]
    },
    {
     "data": {
      "text/html": [
       "<div>\n",
       "<style scoped>\n",
       "    .dataframe tbody tr th:only-of-type {\n",
       "        vertical-align: middle;\n",
       "    }\n",
       "\n",
       "    .dataframe tbody tr th {\n",
       "        vertical-align: top;\n",
       "    }\n",
       "\n",
       "    .dataframe thead th {\n",
       "        text-align: right;\n",
       "    }\n",
       "</style>\n",
       "<table border=\"1\" class=\"dataframe\">\n",
       "  <thead>\n",
       "    <tr style=\"text-align: right;\">\n",
       "      <th></th>\n",
       "      <th>blockAddress</th>\n",
       "      <th>count</th>\n",
       "    </tr>\n",
       "  </thead>\n",
       "  <tbody>\n",
       "    <tr>\n",
       "      <th>0</th>\n",
       "      <td>3500 BLOCK POLK ST</td>\n",
       "      <td>132</td>\n",
       "    </tr>\n",
       "    <tr>\n",
       "      <th>1</th>\n",
       "      <td>1000 BLOCK SPRUCE ST</td>\n",
       "      <td>188</td>\n",
       "    </tr>\n",
       "    <tr>\n",
       "      <th>2</th>\n",
       "      <td>5th St / Pine St</td>\n",
       "      <td>1</td>\n",
       "    </tr>\n",
       "    <tr>\n",
       "      <th>3</th>\n",
       "      <td>Lila St/jefferson St</td>\n",
       "      <td>1</td>\n",
       "    </tr>\n",
       "    <tr>\n",
       "      <th>4</th>\n",
       "      <td>4500 BLOCK ARLINGTON AVE</td>\n",
       "      <td>35</td>\n",
       "    </tr>\n",
       "    <tr>\n",
       "      <th>...</th>\n",
       "      <td>...</td>\n",
       "      <td>...</td>\n",
       "    </tr>\n",
       "    <tr>\n",
       "      <th>14109</th>\n",
       "      <td>Stover Ave / Gaylord St</td>\n",
       "      <td>1</td>\n",
       "    </tr>\n",
       "    <tr>\n",
       "      <th>14110</th>\n",
       "      <td>Manchester Pl / California Ave</td>\n",
       "      <td>1</td>\n",
       "    </tr>\n",
       "    <tr>\n",
       "      <th>14111</th>\n",
       "      <td>6400 BLOCK RHONDA RD</td>\n",
       "      <td>1</td>\n",
       "    </tr>\n",
       "    <tr>\n",
       "      <th>14112</th>\n",
       "      <td>5200 BLOCK MARENGO CT</td>\n",
       "      <td>1</td>\n",
       "    </tr>\n",
       "    <tr>\n",
       "      <th>14113</th>\n",
       "      <td>5300 BLOCK QUAIL ROAD, 314 RUN</td>\n",
       "      <td>1</td>\n",
       "    </tr>\n",
       "  </tbody>\n",
       "</table>\n",
       "<p>14114 rows × 2 columns</p>\n",
       "</div>"
      ],
      "text/plain": [
       "                         blockAddress  count\n",
       "0                  3500 BLOCK POLK ST    132\n",
       "1                1000 BLOCK SPRUCE ST    188\n",
       "2                    5th St / Pine St      1\n",
       "3                Lila St/jefferson St      1\n",
       "4            4500 BLOCK ARLINGTON AVE     35\n",
       "...                               ...    ...\n",
       "14109         Stover Ave / Gaylord St      1\n",
       "14110  Manchester Pl / California Ave      1\n",
       "14111            6400 BLOCK RHONDA RD      1\n",
       "14112           5200 BLOCK MARENGO CT      1\n",
       "14113  5300 BLOCK QUAIL ROAD, 314 RUN      1\n",
       "\n",
       "[14114 rows x 2 columns]"
      ]
     },
     "metadata": {},
     "output_type": "display_data"
    },
    {
     "data": {
      "text/html": [
       "<div>\n",
       "<style scoped>\n",
       "    .dataframe tbody tr th:only-of-type {\n",
       "        vertical-align: middle;\n",
       "    }\n",
       "\n",
       "    .dataframe tbody tr th {\n",
       "        vertical-align: top;\n",
       "    }\n",
       "\n",
       "    .dataframe thead th {\n",
       "        text-align: right;\n",
       "    }\n",
       "</style>\n",
       "<table border=\"1\" class=\"dataframe\">\n",
       "  <thead>\n",
       "    <tr style=\"text-align: right;\">\n",
       "      <th></th>\n",
       "      <th>rd</th>\n",
       "      <th>count</th>\n",
       "    </tr>\n",
       "  </thead>\n",
       "  <tbody>\n",
       "    <tr>\n",
       "      <th>0</th>\n",
       "      <td>B05</td>\n",
       "      <td>362</td>\n",
       "    </tr>\n",
       "    <tr>\n",
       "      <th>1</th>\n",
       "      <td>Z21</td>\n",
       "      <td>25</td>\n",
       "    </tr>\n",
       "    <tr>\n",
       "      <th>2</th>\n",
       "      <td>E02</td>\n",
       "      <td>983</td>\n",
       "    </tr>\n",
       "    <tr>\n",
       "      <th>3</th>\n",
       "      <td>G12</td>\n",
       "      <td>367</td>\n",
       "    </tr>\n",
       "    <tr>\n",
       "      <th>4</th>\n",
       "      <td>17A</td>\n",
       "      <td>288</td>\n",
       "    </tr>\n",
       "    <tr>\n",
       "      <th>...</th>\n",
       "      <td>...</td>\n",
       "      <td>...</td>\n",
       "    </tr>\n",
       "    <tr>\n",
       "      <th>209</th>\n",
       "      <td>g03</td>\n",
       "      <td>2</td>\n",
       "    </tr>\n",
       "    <tr>\n",
       "      <th>210</th>\n",
       "      <td>e15</td>\n",
       "      <td>1</td>\n",
       "    </tr>\n",
       "    <tr>\n",
       "      <th>211</th>\n",
       "      <td>H17</td>\n",
       "      <td>1</td>\n",
       "    </tr>\n",
       "    <tr>\n",
       "      <th>212</th>\n",
       "      <td>PG1</td>\n",
       "      <td>1</td>\n",
       "    </tr>\n",
       "    <tr>\n",
       "      <th>213</th>\n",
       "      <td>G17</td>\n",
       "      <td>1</td>\n",
       "    </tr>\n",
       "  </tbody>\n",
       "</table>\n",
       "<p>214 rows × 2 columns</p>\n",
       "</div>"
      ],
      "text/plain": [
       "      rd  count\n",
       "0    B05    362\n",
       "1    Z21     25\n",
       "2    E02    983\n",
       "3    G12    367\n",
       "4    17A    288\n",
       "..   ...    ...\n",
       "209  g03      2\n",
       "210  e15      1\n",
       "211  H17      1\n",
       "212  PG1      1\n",
       "213  G17      1\n",
       "\n",
       "[214 rows x 2 columns]"
      ]
     },
     "metadata": {},
     "output_type": "display_data"
    }
   ],
   "source": [
    "\n",
    "from pyspark.sql.functions import col\n",
    "\n",
    "# ex. query_reports(crime_df, \"ROBBERY\", 1, 120) would query for less than 120 robberies within the area\n",
    "\n",
    "def query_reports(df, crimeType: str = \"\", condition_code: int = 0, condition: int = 0, points: bool = False):\n",
    "    # Filter rows where crimeType is 'ROBBERY' and group by rpc column, counting the occurrences\n",
    "    query_present = False\n",
    "    query_string = ''\n",
    "\n",
    "    # Handle incorrect input for query_string\n",
    "    if crimeType != \"\":\n",
    "        if crimeType in crimeTypes:\n",
    "            print(\"Querying... \")\n",
    "            query_string = crimeType\n",
    "            query_present = True\n",
    "        else:\n",
    "            print(\"Warning: Invalid Crime Type\")\n",
    "            query_string = 'Invalid Query: Returning All Crimes'\n",
    "            query_present = False\n",
    "    else:\n",
    "        query_string = 'All Crimes'\n",
    "        \n",
    "    \n",
    "    if query_present:\n",
    "        query_result = (df.select(\"rd\", \"blockAddress\", \"crimeType\")\n",
    "                      .filter(df.crimeType == crimeType))\n",
    "    else:\n",
    "        query_result = df\n",
    "\n",
    "    queried_df_blockAddress = (query_result.select(\"blockAddress\")\n",
    "                         .groupby(\"blockAddress\")\n",
    "                         .count())\n",
    "    \n",
    "    queried_df_rd = (query_result.select(\"rd\", \"crimeType\")\n",
    "                      .groupBy(\"rd\")\n",
    "                      .count())\n",
    "    \n",
    "    print(\"Querying Finished\")\n",
    "    queried_df_blockAddress = queried_df_blockAddress.toPandas()\n",
    "    queried_df_rd = queried_df_rd.toPandas()\n",
    "    \n",
    "    return queried_df_blockAddress, queried_df_rd, query_string\n",
    "    \n",
    "queried_df_blockAddress, queried_df_rd, query_string = query_reports(crime_df)\n",
    "display(queried_df_blockAddress)\n",
    "display(queried_df_rd)"
   ]
  },
  {
   "cell_type": "markdown",
   "id": "8989e224-2a47-43e9-b0af-7c0a8d506bb1",
   "metadata": {},
   "source": [
    "# Merge Dataframes"
   ]
  },
  {
   "cell_type": "code",
   "execution_count": 9,
   "id": "7bdbeeb4-16e3-4d9a-a160-5c878530347c",
   "metadata": {},
   "outputs": [
    {
     "data": {
      "text/html": [
       "<div>\n",
       "<style scoped>\n",
       "    .dataframe tbody tr th:only-of-type {\n",
       "        vertical-align: middle;\n",
       "    }\n",
       "\n",
       "    .dataframe tbody tr th {\n",
       "        vertical-align: top;\n",
       "    }\n",
       "\n",
       "    .dataframe thead th {\n",
       "        text-align: right;\n",
       "    }\n",
       "</style>\n",
       "<table border=\"1\" class=\"dataframe\">\n",
       "  <thead>\n",
       "    <tr style=\"text-align: right;\">\n",
       "      <th></th>\n",
       "      <th>rd</th>\n",
       "      <th>count</th>\n",
       "      <th>SHAPE</th>\n",
       "    </tr>\n",
       "  </thead>\n",
       "  <tbody>\n",
       "    <tr>\n",
       "      <th>0</th>\n",
       "      <td>B05</td>\n",
       "      <td>362</td>\n",
       "      <td>{\"rings\": [[[-13058817, 4026512], [-13058816, ...</td>\n",
       "    </tr>\n",
       "    <tr>\n",
       "      <th>1</th>\n",
       "      <td>Z21</td>\n",
       "      <td>25</td>\n",
       "      <td>None</td>\n",
       "    </tr>\n",
       "    <tr>\n",
       "      <th>2</th>\n",
       "      <td>E02</td>\n",
       "      <td>983</td>\n",
       "      <td>{\"rings\": [[[-13068347, 4025106], [-13068347, ...</td>\n",
       "    </tr>\n",
       "    <tr>\n",
       "      <th>3</th>\n",
       "      <td>G12</td>\n",
       "      <td>367</td>\n",
       "      <td>{\"rings\": [[[-13070011, 4019232], [-13070772, ...</td>\n",
       "    </tr>\n",
       "    <tr>\n",
       "      <th>4</th>\n",
       "      <td>17A</td>\n",
       "      <td>288</td>\n",
       "      <td>None</td>\n",
       "    </tr>\n",
       "    <tr>\n",
       "      <th>...</th>\n",
       "      <td>...</td>\n",
       "      <td>...</td>\n",
       "      <td>...</td>\n",
       "    </tr>\n",
       "    <tr>\n",
       "      <th>213</th>\n",
       "      <td>G17</td>\n",
       "      <td>1</td>\n",
       "      <td>{\"rings\": [[[-13065753, 4017792], [-13065614, ...</td>\n",
       "    </tr>\n",
       "    <tr>\n",
       "      <th>214</th>\n",
       "      <td>I15</td>\n",
       "      <td>0</td>\n",
       "      <td>{\"rings\": [[[-13068909, 4015593], [-13067078, ...</td>\n",
       "    </tr>\n",
       "    <tr>\n",
       "      <th>215</th>\n",
       "      <td>G19</td>\n",
       "      <td>0</td>\n",
       "      <td>{\"rings\": [[[-13062436, 4017578], [-13061289, ...</td>\n",
       "    </tr>\n",
       "    <tr>\n",
       "      <th>216</th>\n",
       "      <td>U02</td>\n",
       "      <td>0</td>\n",
       "      <td>{\"rings\": [[[-13061709, 4025537], [-13060989, ...</td>\n",
       "    </tr>\n",
       "    <tr>\n",
       "      <th>217</th>\n",
       "      <td>U01</td>\n",
       "      <td>0</td>\n",
       "      <td>{\"rings\": [[[-13060658, 4026518], [-13060467, ...</td>\n",
       "    </tr>\n",
       "  </tbody>\n",
       "</table>\n",
       "<p>218 rows × 3 columns</p>\n",
       "</div>"
      ],
      "text/plain": [
       "      rd  count                                              SHAPE\n",
       "0    B05    362  {\"rings\": [[[-13058817, 4026512], [-13058816, ...\n",
       "1    Z21     25                                               None\n",
       "2    E02    983  {\"rings\": [[[-13068347, 4025106], [-13068347, ...\n",
       "3    G12    367  {\"rings\": [[[-13070011, 4019232], [-13070772, ...\n",
       "4    17A    288                                               None\n",
       "..   ...    ...                                                ...\n",
       "213  G17      1  {\"rings\": [[[-13065753, 4017792], [-13065614, ...\n",
       "214  I15      0  {\"rings\": [[[-13068909, 4015593], [-13067078, ...\n",
       "215  G19      0  {\"rings\": [[[-13062436, 4017578], [-13061289, ...\n",
       "216  U02      0  {\"rings\": [[[-13061709, 4025537], [-13060989, ...\n",
       "217  U01      0  {\"rings\": [[[-13060658, 4026518], [-13060467, ...\n",
       "\n",
       "[218 rows x 3 columns]"
      ]
     },
     "metadata": {},
     "output_type": "display_data"
    },
    {
     "data": {
      "text/html": [
       "<div>\n",
       "<style scoped>\n",
       "    .dataframe tbody tr th:only-of-type {\n",
       "        vertical-align: middle;\n",
       "    }\n",
       "\n",
       "    .dataframe tbody tr th {\n",
       "        vertical-align: top;\n",
       "    }\n",
       "\n",
       "    .dataframe thead th {\n",
       "        text-align: right;\n",
       "    }\n",
       "</style>\n",
       "<table border=\"1\" class=\"dataframe\">\n",
       "  <thead>\n",
       "    <tr style=\"text-align: right;\">\n",
       "      <th></th>\n",
       "      <th>blockAddress</th>\n",
       "      <th>count</th>\n",
       "      <th>SHAPE</th>\n",
       "    </tr>\n",
       "  </thead>\n",
       "  <tbody>\n",
       "    <tr>\n",
       "      <th>0</th>\n",
       "      <td>3500 BLOCK POLK ST</td>\n",
       "      <td>132</td>\n",
       "      <td>{'x': -117.466222838411, 'y': 33.904545023372,...</td>\n",
       "    </tr>\n",
       "    <tr>\n",
       "      <th>1</th>\n",
       "      <td>1000 BLOCK SPRUCE ST</td>\n",
       "      <td>188</td>\n",
       "      <td>{'x': -117.334138494748, 'y': 33.990174826867,...</td>\n",
       "    </tr>\n",
       "    <tr>\n",
       "      <th>2</th>\n",
       "      <td>5th St / Pine St</td>\n",
       "      <td>1</td>\n",
       "      <td>{'x': -117.384641418932, 'y': 33.982660960342,...</td>\n",
       "    </tr>\n",
       "    <tr>\n",
       "      <th>3</th>\n",
       "      <td>Lila St/jefferson St</td>\n",
       "      <td>1</td>\n",
       "      <td>{'x': -117.392267626779, 'y': 33.903144477033,...</td>\n",
       "    </tr>\n",
       "    <tr>\n",
       "      <th>4</th>\n",
       "      <td>4500 BLOCK ARLINGTON AVE</td>\n",
       "      <td>35</td>\n",
       "      <td>{'x': -117.402927090635, 'y': 33.946190570161,...</td>\n",
       "    </tr>\n",
       "    <tr>\n",
       "      <th>...</th>\n",
       "      <td>...</td>\n",
       "      <td>...</td>\n",
       "      <td>...</td>\n",
       "    </tr>\n",
       "    <tr>\n",
       "      <th>14109</th>\n",
       "      <td>Stover Ave / Gaylord St</td>\n",
       "      <td>1</td>\n",
       "      <td>{'x': -117.48100775955, 'y': 33.950900653974, ...</td>\n",
       "    </tr>\n",
       "    <tr>\n",
       "      <th>14110</th>\n",
       "      <td>Manchester Pl / California Ave</td>\n",
       "      <td>1</td>\n",
       "      <td>{'x': -117.455885144287, 'y': 33.925387404563,...</td>\n",
       "    </tr>\n",
       "    <tr>\n",
       "      <th>14111</th>\n",
       "      <td>6400 BLOCK RHONDA RD</td>\n",
       "      <td>1</td>\n",
       "      <td>{'x': -117.420405041033, 'y': 33.956169586663,...</td>\n",
       "    </tr>\n",
       "    <tr>\n",
       "      <th>14112</th>\n",
       "      <td>5200 BLOCK MARENGO CT</td>\n",
       "      <td>1</td>\n",
       "      <td>{'x': -117.500333878109, 'y': 33.9232418253, '...</td>\n",
       "    </tr>\n",
       "    <tr>\n",
       "      <th>14113</th>\n",
       "      <td>5300 BLOCK QUAIL ROAD, 314 RUN</td>\n",
       "      <td>1</td>\n",
       "      <td>{'x': -117.311153680907, 'y': 33.971055943559,...</td>\n",
       "    </tr>\n",
       "  </tbody>\n",
       "</table>\n",
       "<p>14114 rows × 3 columns</p>\n",
       "</div>"
      ],
      "text/plain": [
       "                         blockAddress  count  \\\n",
       "0                  3500 BLOCK POLK ST    132   \n",
       "1                1000 BLOCK SPRUCE ST    188   \n",
       "2                    5th St / Pine St      1   \n",
       "3                Lila St/jefferson St      1   \n",
       "4            4500 BLOCK ARLINGTON AVE     35   \n",
       "...                               ...    ...   \n",
       "14109         Stover Ave / Gaylord St      1   \n",
       "14110  Manchester Pl / California Ave      1   \n",
       "14111            6400 BLOCK RHONDA RD      1   \n",
       "14112           5200 BLOCK MARENGO CT      1   \n",
       "14113  5300 BLOCK QUAIL ROAD, 314 RUN      1   \n",
       "\n",
       "                                                   SHAPE  \n",
       "0      {'x': -117.466222838411, 'y': 33.904545023372,...  \n",
       "1      {'x': -117.334138494748, 'y': 33.990174826867,...  \n",
       "2      {'x': -117.384641418932, 'y': 33.982660960342,...  \n",
       "3      {'x': -117.392267626779, 'y': 33.903144477033,...  \n",
       "4      {'x': -117.402927090635, 'y': 33.946190570161,...  \n",
       "...                                                  ...  \n",
       "14109  {'x': -117.48100775955, 'y': 33.950900653974, ...  \n",
       "14110  {'x': -117.455885144287, 'y': 33.925387404563,...  \n",
       "14111  {'x': -117.420405041033, 'y': 33.956169586663,...  \n",
       "14112  {'x': -117.500333878109, 'y': 33.9232418253, '...  \n",
       "14113  {'x': -117.311153680907, 'y': 33.971055943559,...  \n",
       "\n",
       "[14114 rows x 3 columns]"
      ]
     },
     "metadata": {},
     "output_type": "display_data"
    }
   ],
   "source": [
    "def merge_dataframes(queried_df_pd, geometry_df_pd, col):\n",
    "    merged_df = pd.merge(queried_df_pd, geometry_df_pd, on=col, how=\"outer\")\n",
    "    merged_df[\"count\"] = merged_df[\"count\"].fillna(0).astype(int)\n",
    "    return merged_df\n",
    "\n",
    "df = merge_dataframes(queried_df_rd, rd_geometry, \"rd\")\n",
    "df2 = merge_dataframes(queried_df_blockAddress, blockAddress_geometry, \"blockAddress\")\n",
    "display(df)\n",
    "display(df2)\n"
   ]
  },
  {
   "cell_type": "markdown",
   "id": "16fdd11a-c988-4273-b0b7-bf934cca0817",
   "metadata": {},
   "source": [
    "# Graph Result\n"
   ]
  },
  {
   "cell_type": "code",
   "execution_count": 10,
   "id": "2b53c7d4-d9d2-453f-8b25-246c7e009ab6",
   "metadata": {},
   "outputs": [],
   "source": [
    "from arcgis.map.popups import FieldInfo, PopupExpressionInfo\n",
    "import ipywidgets as widgets\n",
    "from arcgis.features import FeatureCollection\n",
    "\n",
    "\n",
    "\n",
    "def create_map():\n",
    "    # Create the map using our featureCollection\n",
    "    my_map = Map()\n",
    "    my_map.basemap.basemap =  \"arcgis-streets\"\n",
    "        # Update starting field of view, and display the map\n",
    "    my_map.extent = {'spatialReference': {'wkid': 102100},\n",
    "                     'xmin': -13087454.153546248, 'ymin': 4009445.945260928,\n",
    "                     'xmax': -13044725.85473489, 'ymax': 4032377.0537464498}\n",
    "    return my_map\n",
    "    \n",
    "\n",
    "    \n",
    "def add_layer(my_map, df):\n",
    "    # setup map data\n",
    "    fset = FeatureSet.from_dataframe(df)\n",
    "    feature_collection = FeatureCollection.from_featureset(fset)\n",
    "    fset2 = FeatureSet.from_dataframe(df2)\n",
    "    feature_collection2 = FeatureCollection.from_featureset(fset2)\n",
    "\n",
    "    # setup map popup info\n",
    "    expression_infos = [\n",
    "        PopupExpressionInfo(\n",
    "            title=\"Name\",\n",
    "            expression=\"return $feature.NAME;\"\n",
    "        )\n",
    "    ]\n",
    "    \n",
    "    field_infos = [\n",
    "        FieldInfo(\n",
    "            fieldName=\"NAME\",\n",
    "            label=\"Reporting District\",\n",
    "            visible=True\n",
    "        ),\n",
    "        FieldInfo(\n",
    "            fieldName=\"Count\",\n",
    "            label=\"Number of Police Reports\",\n",
    "            visible=True\n",
    "        )\n",
    "    ]\n",
    "\n",
    "    # Add new layer and update popup info\n",
    "    my_map.content.remove_all()\n",
    "    my_map.content.add(feature_collection)\n",
    "    my_map.content.popup(0).edit(expression_infos=expression_infos, field_infos=field_infos)\n",
    "\n",
    "    # Use smartmapping to make a class_Breaks_renderer with 30 classes and color based on the count field\n",
    "    my_map.content.renderer(0).smart_mapping().class_breaks_renderer(break_type=\"color\", field=\"count\", num_classes=30)\n",
    "    \n",
    "    \n",
    "    my_map.content.add(feature_collection2)\n",
    "    \n",
    "    renderer = my_map.content.renderer(1).renderer\n",
    "    renderer.symbol.size = 2\n",
    "    my_map.content.renderer(1).renderer = renderer\n",
    "\n",
    "\n",
    "\n",
    "def create_combobox(my_map, crime_df, shape_df):\n",
    "    # Create text/dropdown box\n",
    "    combobox = widgets.Combobox(\n",
    "        placeholder=\"Type or Select Crime Type\",\n",
    "        options=crimeTypes,\n",
    "        description=\"Crime Type\",\n",
    "    )\n",
    "    # Submit on enter/tab clicked only\n",
    "    combobox.continuous_update = False\n",
    "    \n",
    "    #Create a place for output\n",
    "    output = widgets.Output()\n",
    "    \n",
    "    # Handle finishing\n",
    "    def on_combobox_submit(change):\n",
    "        with output:\n",
    "            output.clear_output()\n",
    "            my_map.content.remove_all()\n",
    "            print(\"working\")\n",
    "\n",
    "            queried_df_blockAddress, queried_df_rd, query_string = query_reports(crime_df, combobox.value)\n",
    "            df = merge_dataframes(queried_df_rd, rd_geometry, \"rd\")\n",
    "            add_layer(my_map, df)\n",
    "\n",
    "            output.clear_output()\n",
    "            print(f\"Displaying: {query_string}\")\n",
    "\n",
    "    \n",
    "    # Attach the handler\n",
    "    combobox.observe(on_combobox_submit, names=\"value\")\n",
    "    \n",
    "    # Display widgets\n",
    "    return combobox, output\n",
    "    \n",
    "\n",
    "def create_pointsbox(my_map):\n",
    "    checkbox = widgets.Checkbox(\n",
    "    value=True,\n",
    "    description='Display Points'\n",
    "    )\n",
    "\n",
    "    def on_checkbox_submit(change):\n",
    "        if change['new']:\n",
    "            my_map.content.layer_visibility(1).visibility= True\n",
    "        else:\n",
    "            my_map.content.layer_visibility(1).visibility= False\n",
    "        my_map.content.update_layer(1)\n",
    "        \n",
    "        \n",
    "    checkbox.observe(on_checkbox_submit, names=\"value\")\n",
    "    return checkbox\n",
    "\n",
    "def create_opacitybox(my_map):\n",
    "    checkbox = widgets.Checkbox(\n",
    "    value=False, \n",
    "    description='is_opaque'\n",
    "    )\n",
    "\n",
    "    def on_checkbox_submit(change):\n",
    "        if change['new']:\n",
    "            renderer = my_map.content.renderer(0).renderer\n",
    "            for cls in renderer.class_break_infos:\n",
    "                cls.symbol.color[3] = 100  \n",
    "            my_map.content.renderer(0).renderer = renderer\n",
    "        else:\n",
    "            renderer = my_map.content.renderer(0).renderer\n",
    "            for cls in renderer.class_break_infos:\n",
    "                cls.symbol.color[3] = 255  \n",
    "            my_map.content.renderer(0).renderer = renderer\n",
    "\n",
    "        \n",
    "        \n",
    "    checkbox.observe(on_checkbox_submit, names=\"value\")\n",
    "    return checkbox"
   ]
  },
  {
   "cell_type": "code",
   "execution_count": 11,
   "id": "503da9cc-b875-42fa-a57d-c2980f95856e",
   "metadata": {},
   "outputs": [
    {
     "data": {
      "application/vnd.jupyter.widget-view+json": {
       "model_id": "4566cf718be9492ca00e16f952539b9f",
       "version_major": 2,
       "version_minor": 0
      },
      "text/plain": [
       "VBox(children=(HBox(children=(Combobox(value='', continuous_update=False, description='Crime Type', options=('…"
      ]
     },
     "execution_count": 11,
     "metadata": {},
     "output_type": "execute_result"
    }
   ],
   "source": [
    "my_map = create_map()\n",
    "add_layer(my_map, df)\n",
    "combobox, output = create_combobox(my_map, crime_df, rd_geometry)\n",
    "pointsbox = create_pointsbox(my_map)\n",
    "opacitybox = create_opacitybox(my_map)\n",
    "widgets.VBox([widgets.HBox([combobox, output, pointsbox, opacitybox]), my_map])\n"
   ]
  },
  {
   "cell_type": "code",
   "execution_count": 12,
   "id": "5eba5c89-050c-4105-95c7-f4f401ca5673",
   "metadata": {},
   "outputs": [
    {
     "ename": "AttributeError",
     "evalue": "'SimpleRenderer' object has no attribute 'class_break_infos'",
     "output_type": "error",
     "traceback": [
      "\u001b[0;31m---------------------------------------------------------------------------\u001b[0m",
      "\u001b[0;31mAttributeError\u001b[0m                            Traceback (most recent call last)",
      "Cell \u001b[0;32mIn[12], line 2\u001b[0m\n\u001b[1;32m      1\u001b[0m renderer \u001b[38;5;241m=\u001b[39m my_map\u001b[38;5;241m.\u001b[39mcontent\u001b[38;5;241m.\u001b[39mrenderer(\u001b[38;5;241m0\u001b[39m)\u001b[38;5;241m.\u001b[39mrenderer\n\u001b[0;32m----> 2\u001b[0m \u001b[38;5;28;01mfor\u001b[39;00m \u001b[38;5;28mcls\u001b[39m \u001b[38;5;129;01min\u001b[39;00m renderer\u001b[38;5;241m.\u001b[39mclass_break_infos:\n\u001b[1;32m      3\u001b[0m     \u001b[38;5;28mcls\u001b[39m\u001b[38;5;241m.\u001b[39msymbol\u001b[38;5;241m.\u001b[39mcolor[\u001b[38;5;241m3\u001b[39m] \u001b[38;5;241m=\u001b[39m \u001b[38;5;241m100\u001b[39m  \n\u001b[1;32m      4\u001b[0m my_map\u001b[38;5;241m.\u001b[39mcontent\u001b[38;5;241m.\u001b[39mrenderer(\u001b[38;5;241m0\u001b[39m)\u001b[38;5;241m.\u001b[39mrenderer \u001b[38;5;241m=\u001b[39m renderer\n",
      "File \u001b[0;32m~/anaconda3/lib/python3.12/site-packages/pydantic/main.py:828\u001b[0m, in \u001b[0;36mBaseModel.__getattr__\u001b[0;34m(self, item)\u001b[0m\n\u001b[1;32m    825\u001b[0m     \u001b[38;5;28;01mreturn\u001b[39;00m \u001b[38;5;28msuper\u001b[39m()\u001b[38;5;241m.\u001b[39m\u001b[38;5;21m__getattribute__\u001b[39m(item)  \u001b[38;5;66;03m# Raises AttributeError if appropriate\u001b[39;00m\n\u001b[1;32m    826\u001b[0m \u001b[38;5;28;01melse\u001b[39;00m:\n\u001b[1;32m    827\u001b[0m     \u001b[38;5;66;03m# this is the current error\u001b[39;00m\n\u001b[0;32m--> 828\u001b[0m     \u001b[38;5;28;01mraise\u001b[39;00m \u001b[38;5;167;01mAttributeError\u001b[39;00m(\u001b[38;5;124mf\u001b[39m\u001b[38;5;124m'\u001b[39m\u001b[38;5;132;01m{\u001b[39;00m\u001b[38;5;28mtype\u001b[39m(\u001b[38;5;28mself\u001b[39m)\u001b[38;5;241m.\u001b[39m\u001b[38;5;18m__name__\u001b[39m\u001b[38;5;132;01m!r}\u001b[39;00m\u001b[38;5;124m object has no attribute \u001b[39m\u001b[38;5;132;01m{\u001b[39;00mitem\u001b[38;5;132;01m!r}\u001b[39;00m\u001b[38;5;124m'\u001b[39m)\n",
      "\u001b[0;31mAttributeError\u001b[0m: 'SimpleRenderer' object has no attribute 'class_break_infos'"
     ]
    }
   ],
   "source": [
    "renderer = my_map.content.renderer(0).renderer\n",
    "for cls in renderer.class_break_infos:\n",
    "    cls.symbol.color[3] = 100  \n",
    "my_map.content.renderer(0).renderer = renderer"
   ]
  },
  {
   "cell_type": "code",
   "execution_count": 15,
   "id": "6c727b4b-6ff5-499a-9d0c-26890a961d8b",
   "metadata": {},
   "outputs": [
    {
     "name": "stdout",
     "output_type": "stream",
     "text": [
      "authoring_info=AuthoringInfo(classification_method='esriClassifyEqualInterval', color_ramp=None, fade_ratio=0, field1=None, field2=None, fields=None, flow_theme=None, focus=None, is_auto_generated=None, max_slider_value=None, min_slider_value=None, num_classes=None, standard_deviation_interval=None, statistics=None, type='classedColor', univariate_symbol_style=None, univariate_theme=None, visual_variables=None) background_fill_symbol=None class_break_infos=[ClassBreakInfo(alternate_symbols=None, class_max_value=163.233333, class_min_value=None, description=None, label='0 – 163', symbol=SimpleFillSymbolEsriSFS(color=[247, 251, 255, 100], outline=SimpleLineSymbolEsriSLS(color=[153, 153, 153, 64], marker=None, style='esriSLSSolid', type='esriSLS', width=0.375), style='esriSFSSolid', type='esriSFS')), ClassBreakInfo(alternate_symbols=None, class_max_value=326.466667, class_min_value=None, description=None, label='> 163 – 326', symbol=SimpleFillSymbolEsriSFS(color=[222, 235, 247, 100], outline=SimpleLineSymbolEsriSLS(color=[153, 153, 153, 64], marker=None, style='esriSLSSolid', type='esriSLS', width=0.375), style='esriSFSSolid', type='esriSFS')), ClassBreakInfo(alternate_symbols=None, class_max_value=489.7, class_min_value=None, description=None, label='> 326 – 489', symbol=SimpleFillSymbolEsriSFS(color=[198, 219, 239, 100], outline=SimpleLineSymbolEsriSLS(color=[153, 153, 153, 64], marker=None, style='esriSLSSolid', type='esriSLS', width=0.375), style='esriSFSSolid', type='esriSFS')), ClassBreakInfo(alternate_symbols=None, class_max_value=652.933333, class_min_value=None, description=None, label='> 489 – 652', symbol=SimpleFillSymbolEsriSFS(color=[158, 202, 225, 100], outline=SimpleLineSymbolEsriSLS(color=[153, 153, 153, 64], marker=None, style='esriSLSSolid', type='esriSLS', width=0.375), style='esriSFSSolid', type='esriSFS')), ClassBreakInfo(alternate_symbols=None, class_max_value=816.166667, class_min_value=None, description=None, label='> 652 – 816', symbol=SimpleFillSymbolEsriSFS(color=[107, 174, 214, 100], outline=SimpleLineSymbolEsriSLS(color=[153, 153, 153, 64], marker=None, style='esriSLSSolid', type='esriSLS', width=0.375), style='esriSFSSolid', type='esriSFS')), ClassBreakInfo(alternate_symbols=None, class_max_value=979.4, class_min_value=None, description=None, label='> 816 – 979', symbol=SimpleFillSymbolEsriSFS(color=[66, 146, 198, 100], outline=SimpleLineSymbolEsriSLS(color=[153, 153, 153, 64], marker=None, style='esriSLSSolid', type='esriSLS', width=0.375), style='esriSFSSolid', type='esriSFS')), ClassBreakInfo(alternate_symbols=None, class_max_value=1142.633333, class_min_value=None, description=None, label='> 979 – 1,142', symbol=SimpleFillSymbolEsriSFS(color=[33, 113, 181, 100], outline=SimpleLineSymbolEsriSLS(color=[153, 153, 153, 64], marker=None, style='esriSLSSolid', type='esriSLS', width=0.375), style='esriSFSSolid', type='esriSFS')), ClassBreakInfo(alternate_symbols=None, class_max_value=1305.866667, class_min_value=None, description=None, label='> 1,142 – 1,305', symbol=SimpleFillSymbolEsriSFS(color=[8, 81, 156, 100], outline=SimpleLineSymbolEsriSLS(color=[153, 153, 153, 64], marker=None, style='esriSLSSolid', type='esriSLS', width=0.375), style='esriSFSSolid', type='esriSFS')), ClassBreakInfo(alternate_symbols=None, class_max_value=1469.1, class_min_value=None, description=None, label='> 1,305 – 1,469', symbol=SimpleFillSymbolEsriSFS(color=[8, 53, 130, 100], outline=SimpleLineSymbolEsriSLS(color=[153, 153, 153, 64], marker=None, style='esriSLSSolid', type='esriSLS', width=0.375), style='esriSFSSolid', type='esriSFS')), ClassBreakInfo(alternate_symbols=None, class_max_value=1632.333333, class_min_value=None, description=None, label='> 1,469 – 1,632', symbol=SimpleFillSymbolEsriSFS(color=[2, 34, 89, 100], outline=SimpleLineSymbolEsriSLS(color=[153, 153, 153, 64], marker=None, style='esriSLSSolid', type='esriSLS', width=0.375), style='esriSFSSolid', type='esriSFS')), ClassBreakInfo(alternate_symbols=None, class_max_value=1795.566667, class_min_value=None, description=None, label='> 1,632 – 1,795', symbol=SimpleFillSymbolEsriSFS(color=[2, 34, 89, 100], outline=SimpleLineSymbolEsriSLS(color=[153, 153, 153, 64], marker=None, style='esriSLSSolid', type='esriSLS', width=0.375), style='esriSFSSolid', type='esriSFS')), ClassBreakInfo(alternate_symbols=None, class_max_value=1958.8, class_min_value=None, description=None, label='> 1,795 – 1,958', symbol=SimpleFillSymbolEsriSFS(color=[2, 34, 89, 100], outline=SimpleLineSymbolEsriSLS(color=[153, 153, 153, 64], marker=None, style='esriSLSSolid', type='esriSLS', width=0.375), style='esriSFSSolid', type='esriSFS')), ClassBreakInfo(alternate_symbols=None, class_max_value=2122.033333, class_min_value=None, description=None, label='> 1,958 – 2,122', symbol=SimpleFillSymbolEsriSFS(color=[2, 34, 89, 100], outline=SimpleLineSymbolEsriSLS(color=[153, 153, 153, 64], marker=None, style='esriSLSSolid', type='esriSLS', width=0.375), style='esriSFSSolid', type='esriSFS')), ClassBreakInfo(alternate_symbols=None, class_max_value=2285.266667, class_min_value=None, description=None, label='> 2,122 – 2,285', symbol=SimpleFillSymbolEsriSFS(color=[2, 34, 89, 100], outline=SimpleLineSymbolEsriSLS(color=[153, 153, 153, 64], marker=None, style='esriSLSSolid', type='esriSLS', width=0.375), style='esriSFSSolid', type='esriSFS')), ClassBreakInfo(alternate_symbols=None, class_max_value=2448.5, class_min_value=None, description=None, label='> 2,285 – 2,448', symbol=SimpleFillSymbolEsriSFS(color=[2, 34, 89, 100], outline=SimpleLineSymbolEsriSLS(color=[153, 153, 153, 64], marker=None, style='esriSLSSolid', type='esriSLS', width=0.375), style='esriSFSSolid', type='esriSFS')), ClassBreakInfo(alternate_symbols=None, class_max_value=2611.733333, class_min_value=None, description=None, label='> 2,448 – 2,611', symbol=SimpleFillSymbolEsriSFS(color=[2, 34, 89, 100], outline=SimpleLineSymbolEsriSLS(color=[153, 153, 153, 64], marker=None, style='esriSLSSolid', type='esriSLS', width=0.375), style='esriSFSSolid', type='esriSFS')), ClassBreakInfo(alternate_symbols=None, class_max_value=2774.966667, class_min_value=None, description=None, label='> 2,611 – 2,774', symbol=SimpleFillSymbolEsriSFS(color=[2, 34, 89, 100], outline=SimpleLineSymbolEsriSLS(color=[153, 153, 153, 64], marker=None, style='esriSLSSolid', type='esriSLS', width=0.375), style='esriSFSSolid', type='esriSFS')), ClassBreakInfo(alternate_symbols=None, class_max_value=2938.2, class_min_value=None, description=None, label='> 2,774 – 2,938', symbol=SimpleFillSymbolEsriSFS(color=[2, 34, 89, 100], outline=SimpleLineSymbolEsriSLS(color=[153, 153, 153, 64], marker=None, style='esriSLSSolid', type='esriSLS', width=0.375), style='esriSFSSolid', type='esriSFS')), ClassBreakInfo(alternate_symbols=None, class_max_value=3101.433333, class_min_value=None, description=None, label='> 2,938 – 3,101', symbol=SimpleFillSymbolEsriSFS(color=[2, 34, 89, 100], outline=SimpleLineSymbolEsriSLS(color=[153, 153, 153, 64], marker=None, style='esriSLSSolid', type='esriSLS', width=0.375), style='esriSFSSolid', type='esriSFS')), ClassBreakInfo(alternate_symbols=None, class_max_value=3264.666667, class_min_value=None, description=None, label='> 3,101 – 3,264', symbol=SimpleFillSymbolEsriSFS(color=[2, 34, 89, 100], outline=SimpleLineSymbolEsriSLS(color=[153, 153, 153, 64], marker=None, style='esriSLSSolid', type='esriSLS', width=0.375), style='esriSFSSolid', type='esriSFS')), ClassBreakInfo(alternate_symbols=None, class_max_value=3427.9, class_min_value=None, description=None, label='> 3,264 – 3,427', symbol=SimpleFillSymbolEsriSFS(color=[2, 34, 89, 100], outline=SimpleLineSymbolEsriSLS(color=[153, 153, 153, 64], marker=None, style='esriSLSSolid', type='esriSLS', width=0.375), style='esriSFSSolid', type='esriSFS')), ClassBreakInfo(alternate_symbols=None, class_max_value=3591.133333, class_min_value=None, description=None, label='> 3,427 – 3,591', symbol=SimpleFillSymbolEsriSFS(color=[2, 34, 89, 100], outline=SimpleLineSymbolEsriSLS(color=[153, 153, 153, 64], marker=None, style='esriSLSSolid', type='esriSLS', width=0.375), style='esriSFSSolid', type='esriSFS')), ClassBreakInfo(alternate_symbols=None, class_max_value=3754.366667, class_min_value=None, description=None, label='> 3,591 – 3,754', symbol=SimpleFillSymbolEsriSFS(color=[2, 34, 89, 100], outline=SimpleLineSymbolEsriSLS(color=[153, 153, 153, 64], marker=None, style='esriSLSSolid', type='esriSLS', width=0.375), style='esriSFSSolid', type='esriSFS')), ClassBreakInfo(alternate_symbols=None, class_max_value=3917.6, class_min_value=None, description=None, label='> 3,754 – 3,917', symbol=SimpleFillSymbolEsriSFS(color=[2, 34, 89, 100], outline=SimpleLineSymbolEsriSLS(color=[153, 153, 153, 64], marker=None, style='esriSLSSolid', type='esriSLS', width=0.375), style='esriSFSSolid', type='esriSFS')), ClassBreakInfo(alternate_symbols=None, class_max_value=4080.833333, class_min_value=None, description=None, label='> 3,917 – 4,080', symbol=SimpleFillSymbolEsriSFS(color=[2, 34, 89, 100], outline=SimpleLineSymbolEsriSLS(color=[153, 153, 153, 64], marker=None, style='esriSLSSolid', type='esriSLS', width=0.375), style='esriSFSSolid', type='esriSFS')), ClassBreakInfo(alternate_symbols=None, class_max_value=4244.066667, class_min_value=None, description=None, label='> 4,080 – 4,244', symbol=SimpleFillSymbolEsriSFS(color=[2, 34, 89, 100], outline=SimpleLineSymbolEsriSLS(color=[153, 153, 153, 64], marker=None, style='esriSLSSolid', type='esriSLS', width=0.375), style='esriSFSSolid', type='esriSFS')), ClassBreakInfo(alternate_symbols=None, class_max_value=4407.3, class_min_value=None, description=None, label='> 4,244 – 4,407', symbol=SimpleFillSymbolEsriSFS(color=[2, 34, 89, 100], outline=SimpleLineSymbolEsriSLS(color=[153, 153, 153, 64], marker=None, style='esriSLSSolid', type='esriSLS', width=0.375), style='esriSFSSolid', type='esriSFS')), ClassBreakInfo(alternate_symbols=None, class_max_value=4570.533333, class_min_value=None, description=None, label='> 4,407 – 4,570', symbol=SimpleFillSymbolEsriSFS(color=[2, 34, 89, 100], outline=SimpleLineSymbolEsriSLS(color=[153, 153, 153, 64], marker=None, style='esriSLSSolid', type='esriSLS', width=0.375), style='esriSFSSolid', type='esriSFS')), ClassBreakInfo(alternate_symbols=None, class_max_value=4733.766667, class_min_value=None, description=None, label='> 4,570 – 4,733', symbol=SimpleFillSymbolEsriSFS(color=[2, 34, 89, 100], outline=SimpleLineSymbolEsriSLS(color=[153, 153, 153, 64], marker=None, style='esriSLSSolid', type='esriSLS', width=0.375), style='esriSFSSolid', type='esriSFS')), ClassBreakInfo(alternate_symbols=None, class_max_value=4897, class_min_value=None, description=None, label='> 4,733 – 4,897', symbol=SimpleFillSymbolEsriSFS(color=[2, 34, 89, 100], outline=SimpleLineSymbolEsriSLS(color=[153, 153, 153, 64], marker=None, style='esriSLSSolid', type='esriSLS', width=0.375), style='esriSFSSolid', type='esriSFS'))] classification_method=None default_label='Other' default_symbol=SimpleFillSymbolEsriSFS(color=[170, 170, 170, 255], outline=SimpleLineSymbolEsriSLS(color=[153, 153, 153, 64], marker=None, style='esriSLSSolid', type='esriSLS', width=0.375), style='esriSFSSolid', type='esriSFS') field='count' legend_options=None min_value=0 normalization_field=None normalization_total=None normalization_type=None rotation_expression=None rotation_type=None type='classBreaks' value_expression=None value_expression_title=None visual_variables=None\n"
     ]
    }
   ],
   "source": [
    "# for val in my_map.content.renderer(0).renderer.class_break_infos:\n",
    "#     print(val.symbol.outline.color)\n",
    "\n",
    "print(renderer)"
   ]
  },
  {
   "cell_type": "code",
   "execution_count": 41,
   "id": "f2782b04-613a-434b-8400-3d8e3c6eac2c",
   "metadata": {},
   "outputs": [
    {
     "data": {
      "text/plain": [
       "ClassBreaksRenderer(authoring_info=AuthoringInfo(classification_method='esriClassifyEqualInterval', color_ramp=None, fade_ratio=0.0, field1=None, field2=None, fields=None, flow_theme=None, focus=None, is_auto_generated=None, max_slider_value=None, min_slider_value=None, num_classes=None, standard_deviation_interval=None, statistics=None, type='classedColor', univariate_symbol_style=None, univariate_theme=None, visual_variables=None), background_fill_symbol=None, class_break_infos=[ClassBreakInfo(alternate_symbols=None, class_max_value=163.233333, class_min_value=None, description=None, label='0 – 163', symbol=SimpleFillSymbolEsriSFS(color=[247, 251, 255, 100], outline=SimpleLineSymbolEsriSLS(color=[153, 153, 153, 100], marker=None, style='esriSLSSolid', type='esriSLS', width=0.375), style='esriSFSSolid', type='esriSFS')), ClassBreakInfo(alternate_symbols=None, class_max_value=326.466667, class_min_value=None, description=None, label='> 163 – 326', symbol=SimpleFillSymbolEsriSFS(color=[222, 235, 247, 100], outline=SimpleLineSymbolEsriSLS(color=[153, 153, 153, 100], marker=None, style='esriSLSSolid', type='esriSLS', width=0.375), style='esriSFSSolid', type='esriSFS')), ClassBreakInfo(alternate_symbols=None, class_max_value=489.7, class_min_value=None, description=None, label='> 326 – 489', symbol=SimpleFillSymbolEsriSFS(color=[198, 219, 239, 100], outline=SimpleLineSymbolEsriSLS(color=[153, 153, 153, 100], marker=None, style='esriSLSSolid', type='esriSLS', width=0.375), style='esriSFSSolid', type='esriSFS')), ClassBreakInfo(alternate_symbols=None, class_max_value=652.933333, class_min_value=None, description=None, label='> 489 – 652', symbol=SimpleFillSymbolEsriSFS(color=[158, 202, 225, 100], outline=SimpleLineSymbolEsriSLS(color=[153, 153, 153, 100], marker=None, style='esriSLSSolid', type='esriSLS', width=0.375), style='esriSFSSolid', type='esriSFS')), ClassBreakInfo(alternate_symbols=None, class_max_value=816.166667, class_min_value=None, description=None, label='> 652 – 816', symbol=SimpleFillSymbolEsriSFS(color=[107, 174, 214, 100], outline=SimpleLineSymbolEsriSLS(color=[153, 153, 153, 100], marker=None, style='esriSLSSolid', type='esriSLS', width=0.375), style='esriSFSSolid', type='esriSFS')), ClassBreakInfo(alternate_symbols=None, class_max_value=979.4, class_min_value=None, description=None, label='> 816 – 979', symbol=SimpleFillSymbolEsriSFS(color=[66, 146, 198, 100], outline=SimpleLineSymbolEsriSLS(color=[153, 153, 153, 100], marker=None, style='esriSLSSolid', type='esriSLS', width=0.375), style='esriSFSSolid', type='esriSFS')), ClassBreakInfo(alternate_symbols=None, class_max_value=1142.633333, class_min_value=None, description=None, label='> 979 – 1,142', symbol=SimpleFillSymbolEsriSFS(color=[33, 113, 181, 100], outline=SimpleLineSymbolEsriSLS(color=[153, 153, 153, 100], marker=None, style='esriSLSSolid', type='esriSLS', width=0.375), style='esriSFSSolid', type='esriSFS')), ClassBreakInfo(alternate_symbols=None, class_max_value=1305.866667, class_min_value=None, description=None, label='> 1,142 – 1,305', symbol=SimpleFillSymbolEsriSFS(color=[8, 81, 156, 100], outline=SimpleLineSymbolEsriSLS(color=[153, 153, 153, 100], marker=None, style='esriSLSSolid', type='esriSLS', width=0.375), style='esriSFSSolid', type='esriSFS')), ClassBreakInfo(alternate_symbols=None, class_max_value=1469.1, class_min_value=None, description=None, label='> 1,305 – 1,469', symbol=SimpleFillSymbolEsriSFS(color=[8, 53, 130, 100], outline=SimpleLineSymbolEsriSLS(color=[153, 153, 153, 100], marker=None, style='esriSLSSolid', type='esriSLS', width=0.375), style='esriSFSSolid', type='esriSFS')), ClassBreakInfo(alternate_symbols=None, class_max_value=1632.333333, class_min_value=None, description=None, label='> 1,469 – 1,632', symbol=SimpleFillSymbolEsriSFS(color=[2, 34, 89, 100], outline=SimpleLineSymbolEsriSLS(color=[153, 153, 153, 100], marker=None, style='esriSLSSolid', type='esriSLS', width=0.375), style='esriSFSSolid', type='esriSFS')), ClassBreakInfo(alternate_symbols=None, class_max_value=1795.566667, class_min_value=None, description=None, label='> 1,632 – 1,795', symbol=SimpleFillSymbolEsriSFS(color=[2, 34, 89, 100], outline=SimpleLineSymbolEsriSLS(color=[153, 153, 153, 100], marker=None, style='esriSLSSolid', type='esriSLS', width=0.375), style='esriSFSSolid', type='esriSFS')), ClassBreakInfo(alternate_symbols=None, class_max_value=1958.8, class_min_value=None, description=None, label='> 1,795 – 1,958', symbol=SimpleFillSymbolEsriSFS(color=[2, 34, 89, 100], outline=SimpleLineSymbolEsriSLS(color=[153, 153, 153, 100], marker=None, style='esriSLSSolid', type='esriSLS', width=0.375), style='esriSFSSolid', type='esriSFS')), ClassBreakInfo(alternate_symbols=None, class_max_value=2122.033333, class_min_value=None, description=None, label='> 1,958 – 2,122', symbol=SimpleFillSymbolEsriSFS(color=[2, 34, 89, 100], outline=SimpleLineSymbolEsriSLS(color=[153, 153, 153, 100], marker=None, style='esriSLSSolid', type='esriSLS', width=0.375), style='esriSFSSolid', type='esriSFS')), ClassBreakInfo(alternate_symbols=None, class_max_value=2285.266667, class_min_value=None, description=None, label='> 2,122 – 2,285', symbol=SimpleFillSymbolEsriSFS(color=[2, 34, 89, 100], outline=SimpleLineSymbolEsriSLS(color=[153, 153, 153, 100], marker=None, style='esriSLSSolid', type='esriSLS', width=0.375), style='esriSFSSolid', type='esriSFS')), ClassBreakInfo(alternate_symbols=None, class_max_value=2448.5, class_min_value=None, description=None, label='> 2,285 – 2,448', symbol=SimpleFillSymbolEsriSFS(color=[2, 34, 89, 100], outline=SimpleLineSymbolEsriSLS(color=[153, 153, 153, 100], marker=None, style='esriSLSSolid', type='esriSLS', width=0.375), style='esriSFSSolid', type='esriSFS')), ClassBreakInfo(alternate_symbols=None, class_max_value=2611.733333, class_min_value=None, description=None, label='> 2,448 – 2,611', symbol=SimpleFillSymbolEsriSFS(color=[2, 34, 89, 100], outline=SimpleLineSymbolEsriSLS(color=[153, 153, 153, 100], marker=None, style='esriSLSSolid', type='esriSLS', width=0.375), style='esriSFSSolid', type='esriSFS')), ClassBreakInfo(alternate_symbols=None, class_max_value=2774.966667, class_min_value=None, description=None, label='> 2,611 – 2,774', symbol=SimpleFillSymbolEsriSFS(color=[2, 34, 89, 100], outline=SimpleLineSymbolEsriSLS(color=[153, 153, 153, 100], marker=None, style='esriSLSSolid', type='esriSLS', width=0.375), style='esriSFSSolid', type='esriSFS')), ClassBreakInfo(alternate_symbols=None, class_max_value=2938.2, class_min_value=None, description=None, label='> 2,774 – 2,938', symbol=SimpleFillSymbolEsriSFS(color=[2, 34, 89, 100], outline=SimpleLineSymbolEsriSLS(color=[153, 153, 153, 100], marker=None, style='esriSLSSolid', type='esriSLS', width=0.375), style='esriSFSSolid', type='esriSFS')), ClassBreakInfo(alternate_symbols=None, class_max_value=3101.433333, class_min_value=None, description=None, label='> 2,938 – 3,101', symbol=SimpleFillSymbolEsriSFS(color=[2, 34, 89, 100], outline=SimpleLineSymbolEsriSLS(color=[153, 153, 153, 100], marker=None, style='esriSLSSolid', type='esriSLS', width=0.375), style='esriSFSSolid', type='esriSFS')), ClassBreakInfo(alternate_symbols=None, class_max_value=3264.666667, class_min_value=None, description=None, label='> 3,101 – 3,264', symbol=SimpleFillSymbolEsriSFS(color=[2, 34, 89, 100], outline=SimpleLineSymbolEsriSLS(color=[153, 153, 153, 100], marker=None, style='esriSLSSolid', type='esriSLS', width=0.375), style='esriSFSSolid', type='esriSFS')), ClassBreakInfo(alternate_symbols=None, class_max_value=3427.9, class_min_value=None, description=None, label='> 3,264 – 3,427', symbol=SimpleFillSymbolEsriSFS(color=[2, 34, 89, 100], outline=SimpleLineSymbolEsriSLS(color=[153, 153, 153, 100], marker=None, style='esriSLSSolid', type='esriSLS', width=0.375), style='esriSFSSolid', type='esriSFS')), ClassBreakInfo(alternate_symbols=None, class_max_value=3591.133333, class_min_value=None, description=None, label='> 3,427 – 3,591', symbol=SimpleFillSymbolEsriSFS(color=[2, 34, 89, 100], outline=SimpleLineSymbolEsriSLS(color=[153, 153, 153, 100], marker=None, style='esriSLSSolid', type='esriSLS', width=0.375), style='esriSFSSolid', type='esriSFS')), ClassBreakInfo(alternate_symbols=None, class_max_value=3754.366667, class_min_value=None, description=None, label='> 3,591 – 3,754', symbol=SimpleFillSymbolEsriSFS(color=[2, 34, 89, 100], outline=SimpleLineSymbolEsriSLS(color=[153, 153, 153, 100], marker=None, style='esriSLSSolid', type='esriSLS', width=0.375), style='esriSFSSolid', type='esriSFS')), ClassBreakInfo(alternate_symbols=None, class_max_value=3917.6, class_min_value=None, description=None, label='> 3,754 – 3,917', symbol=SimpleFillSymbolEsriSFS(color=[2, 34, 89, 100], outline=SimpleLineSymbolEsriSLS(color=[153, 153, 153, 100], marker=None, style='esriSLSSolid', type='esriSLS', width=0.375), style='esriSFSSolid', type='esriSFS')), ClassBreakInfo(alternate_symbols=None, class_max_value=4080.833333, class_min_value=None, description=None, label='> 3,917 – 4,080', symbol=SimpleFillSymbolEsriSFS(color=[2, 34, 89, 100], outline=SimpleLineSymbolEsriSLS(color=[153, 153, 153, 100], marker=None, style='esriSLSSolid', type='esriSLS', width=0.375), style='esriSFSSolid', type='esriSFS')), ClassBreakInfo(alternate_symbols=None, class_max_value=4244.066667, class_min_value=None, description=None, label='> 4,080 – 4,244', symbol=SimpleFillSymbolEsriSFS(color=[2, 34, 89, 100], outline=SimpleLineSymbolEsriSLS(color=[153, 153, 153, 100], marker=None, style='esriSLSSolid', type='esriSLS', width=0.375), style='esriSFSSolid', type='esriSFS')), ClassBreakInfo(alternate_symbols=None, class_max_value=4407.3, class_min_value=None, description=None, label='> 4,244 – 4,407', symbol=SimpleFillSymbolEsriSFS(color=[2, 34, 89, 100], outline=SimpleLineSymbolEsriSLS(color=[153, 153, 153, 100], marker=None, style='esriSLSSolid', type='esriSLS', width=0.375), style='esriSFSSolid', type='esriSFS')), ClassBreakInfo(alternate_symbols=None, class_max_value=4570.533333, class_min_value=None, description=None, label='> 4,407 – 4,570', symbol=SimpleFillSymbolEsriSFS(color=[2, 34, 89, 100], outline=SimpleLineSymbolEsriSLS(color=[153, 153, 153, 100], marker=None, style='esriSLSSolid', type='esriSLS', width=0.375), style='esriSFSSolid', type='esriSFS')), ClassBreakInfo(alternate_symbols=None, class_max_value=4733.766667, class_min_value=None, description=None, label='> 4,570 – 4,733', symbol=SimpleFillSymbolEsriSFS(color=[2, 34, 89, 100], outline=SimpleLineSymbolEsriSLS(color=[153, 153, 153, 100], marker=None, style='esriSLSSolid', type='esriSLS', width=0.375), style='esriSFSSolid', type='esriSFS')), ClassBreakInfo(alternate_symbols=None, class_max_value=4897, class_min_value=None, description=None, label='> 4,733 – 4,897', symbol=SimpleFillSymbolEsriSFS(color=[2, 34, 89, 100], outline=SimpleLineSymbolEsriSLS(color=[153, 153, 153, 100], marker=None, style='esriSLSSolid', type='esriSLS', width=0.375), style='esriSFSSolid', type='esriSFS'))], classification_method=None, default_label='Other', default_symbol=SimpleFillSymbolEsriSFS(color=[170, 170, 170, 255], outline=SimpleLineSymbolEsriSLS(color=[153, 153, 153, 64], marker=None, style='esriSLSSolid', type='esriSLS', width=0.375), style='esriSFSSolid', type='esriSFS'), field='count', legend_options=None, min_value=0, normalization_field=None, normalization_total=None, normalization_type=None, rotation_expression=None, rotation_type=None, type='classBreaks', value_expression=None, value_expression_title=None, visual_variables=None)"
      ]
     },
     "execution_count": 41,
     "metadata": {},
     "output_type": "execute_result"
    }
   ],
   "source": [
    "my_map.content.renderer(0).renderer"
   ]
  },
  {
   "cell_type": "code",
   "execution_count": 35,
   "id": "5aa75104-0267-4f29-a028-c978a2e51d67",
   "metadata": {},
   "outputs": [],
   "source": [
    "my_map.content.update_layer(1)"
   ]
  },
  {
   "cell_type": "code",
   "execution_count": null,
   "id": "b58de984-b9c0-462a-a831-504a4c18aafc",
   "metadata": {},
   "outputs": [],
   "source": []
  }
 ],
 "metadata": {
  "kernelspec": {
   "display_name": "my_docker_env",
   "language": "python",
   "name": "my_docker_env"
  },
  "language_info": {
   "codemirror_mode": {
    "name": "ipython",
    "version": 3
   },
   "file_extension": ".py",
   "mimetype": "text/x-python",
   "name": "python",
   "nbconvert_exporter": "python",
   "pygments_lexer": "ipython3",
   "version": "3.12.7"
  }
 },
 "nbformat": 4,
 "nbformat_minor": 5
}
