{
  "nbformat": 4,
  "nbformat_minor": 0,
  "metadata": {
    "colab": {
      "provenance": []
    },
    "kernelspec": {
      "name": "python3",
      "display_name": "Python 3"
    },
    "language_info": {
      "name": "python"
    }
  },
  "cells": [
    {
      "cell_type": "code",
      "execution_count": 1,
      "metadata": {
        "id": "enTPCg1RJAJw"
      },
      "outputs": [],
      "source": [
        "import pandas as pd"
      ]
    },
    {
      "cell_type": "code",
      "source": [
        "dr = pd.read_csv('/content/riverside.csv')\n",
        "dl = pd.read_csv('/content/Crime_Data_from_2020_to_Present_20241208.csv')"
      ],
      "metadata": {
        "id": "zQBfgg-CKDIz"
      },
      "execution_count": 2,
      "outputs": []
    },
    {
      "cell_type": "code",
      "source": [
        "dl.rename(columns={'Crm Cd Desc': 'crimeType'}, inplace=True)"
      ],
      "metadata": {
        "id": "8l5aIXJNLSRS"
      },
      "execution_count": 3,
      "outputs": []
    },
    {
      "cell_type": "code",
      "source": [
        "dur= dr['crimeType'].unique()\n",
        "dul = dl['crimeType'].unique()"
      ],
      "metadata": {
        "id": "GgYgmRhlMflb"
      },
      "execution_count": 4,
      "outputs": []
    },
    {
      "cell_type": "code",
      "source": [
        "import re\n",
        "import difflib\n",
        "!pip install fuzzywuzzy\n",
        "from fuzzywuzzy import fuzz\n",
        "from fuzzywuzzy import process"
      ],
      "metadata": {
        "colab": {
          "base_uri": "https://localhost:8080/"
        },
        "id": "ZesqPvOUNG2X",
        "outputId": "dbcd750c-c1a6-4367-86e5-4fe71cc1c73e"
      },
      "execution_count": 5,
      "outputs": [
        {
          "output_type": "stream",
          "name": "stdout",
          "text": [
            "Requirement already satisfied: fuzzywuzzy in /usr/local/lib/python3.10/dist-packages (0.18.0)\n"
          ]
        },
        {
          "output_type": "stream",
          "name": "stderr",
          "text": [
            "/usr/local/lib/python3.10/dist-packages/fuzzywuzzy/fuzz.py:11: UserWarning: Using slow pure-python SequenceMatcher. Install python-Levenshtein to remove this warning\n",
            "  warnings.warn('Using slow pure-python SequenceMatcher. Install python-Levenshtein to remove this warning')\n"
          ]
        }
      ]
    },
    {
      "cell_type": "code",
      "source": [
        "!pip install sentence-transformers scikit-learn\n"
      ],
      "metadata": {
        "colab": {
          "base_uri": "https://localhost:8080/"
        },
        "id": "9aIABTvkuPeI",
        "outputId": "f6401f0c-ed2f-447e-dae0-9d12cbfa30ed"
      },
      "execution_count": 13,
      "outputs": [
        {
          "output_type": "stream",
          "name": "stdout",
          "text": [
            "Requirement already satisfied: sentence-transformers in /usr/local/lib/python3.10/dist-packages (3.2.1)\n",
            "Requirement already satisfied: scikit-learn in /usr/local/lib/python3.10/dist-packages (1.5.2)\n",
            "Requirement already satisfied: transformers<5.0.0,>=4.41.0 in /usr/local/lib/python3.10/dist-packages (from sentence-transformers) (4.46.3)\n",
            "Requirement already satisfied: tqdm in /usr/local/lib/python3.10/dist-packages (from sentence-transformers) (4.66.6)\n",
            "Requirement already satisfied: torch>=1.11.0 in /usr/local/lib/python3.10/dist-packages (from sentence-transformers) (2.5.1+cu121)\n",
            "Requirement already satisfied: scipy in /usr/local/lib/python3.10/dist-packages (from sentence-transformers) (1.13.1)\n",
            "Requirement already satisfied: huggingface-hub>=0.20.0 in /usr/local/lib/python3.10/dist-packages (from sentence-transformers) (0.26.3)\n",
            "Requirement already satisfied: Pillow in /usr/local/lib/python3.10/dist-packages (from sentence-transformers) (11.0.0)\n",
            "Requirement already satisfied: numpy>=1.19.5 in /usr/local/lib/python3.10/dist-packages (from scikit-learn) (1.26.4)\n",
            "Requirement already satisfied: joblib>=1.2.0 in /usr/local/lib/python3.10/dist-packages (from scikit-learn) (1.4.2)\n",
            "Requirement already satisfied: threadpoolctl>=3.1.0 in /usr/local/lib/python3.10/dist-packages (from scikit-learn) (3.5.0)\n",
            "Requirement already satisfied: filelock in /usr/local/lib/python3.10/dist-packages (from huggingface-hub>=0.20.0->sentence-transformers) (3.16.1)\n",
            "Requirement already satisfied: fsspec>=2023.5.0 in /usr/local/lib/python3.10/dist-packages (from huggingface-hub>=0.20.0->sentence-transformers) (2024.10.0)\n",
            "Requirement already satisfied: packaging>=20.9 in /usr/local/lib/python3.10/dist-packages (from huggingface-hub>=0.20.0->sentence-transformers) (24.2)\n",
            "Requirement already satisfied: pyyaml>=5.1 in /usr/local/lib/python3.10/dist-packages (from huggingface-hub>=0.20.0->sentence-transformers) (6.0.2)\n",
            "Requirement already satisfied: requests in /usr/local/lib/python3.10/dist-packages (from huggingface-hub>=0.20.0->sentence-transformers) (2.32.3)\n",
            "Requirement already satisfied: typing-extensions>=3.7.4.3 in /usr/local/lib/python3.10/dist-packages (from huggingface-hub>=0.20.0->sentence-transformers) (4.12.2)\n",
            "Requirement already satisfied: networkx in /usr/local/lib/python3.10/dist-packages (from torch>=1.11.0->sentence-transformers) (3.4.2)\n",
            "Requirement already satisfied: jinja2 in /usr/local/lib/python3.10/dist-packages (from torch>=1.11.0->sentence-transformers) (3.1.4)\n",
            "Requirement already satisfied: sympy==1.13.1 in /usr/local/lib/python3.10/dist-packages (from torch>=1.11.0->sentence-transformers) (1.13.1)\n",
            "Requirement already satisfied: mpmath<1.4,>=1.1.0 in /usr/local/lib/python3.10/dist-packages (from sympy==1.13.1->torch>=1.11.0->sentence-transformers) (1.3.0)\n",
            "Requirement already satisfied: regex!=2019.12.17 in /usr/local/lib/python3.10/dist-packages (from transformers<5.0.0,>=4.41.0->sentence-transformers) (2024.9.11)\n",
            "Requirement already satisfied: tokenizers<0.21,>=0.20 in /usr/local/lib/python3.10/dist-packages (from transformers<5.0.0,>=4.41.0->sentence-transformers) (0.20.3)\n",
            "Requirement already satisfied: safetensors>=0.4.1 in /usr/local/lib/python3.10/dist-packages (from transformers<5.0.0,>=4.41.0->sentence-transformers) (0.4.5)\n",
            "Requirement already satisfied: MarkupSafe>=2.0 in /usr/local/lib/python3.10/dist-packages (from jinja2->torch>=1.11.0->sentence-transformers) (3.0.2)\n",
            "Requirement already satisfied: charset-normalizer<4,>=2 in /usr/local/lib/python3.10/dist-packages (from requests->huggingface-hub>=0.20.0->sentence-transformers) (3.4.0)\n",
            "Requirement already satisfied: idna<4,>=2.5 in /usr/local/lib/python3.10/dist-packages (from requests->huggingface-hub>=0.20.0->sentence-transformers) (3.10)\n",
            "Requirement already satisfied: urllib3<3,>=1.21.1 in /usr/local/lib/python3.10/dist-packages (from requests->huggingface-hub>=0.20.0->sentence-transformers) (2.2.3)\n",
            "Requirement already satisfied: certifi>=2017.4.17 in /usr/local/lib/python3.10/dist-packages (from requests->huggingface-hub>=0.20.0->sentence-transformers) (2024.8.30)\n"
          ]
        }
      ]
    },
    {
      "cell_type": "code",
      "source": [
        "def preprocess_crime(crime):\n",
        "    crime = str(crime).lower()\n",
        "    crime = re.sub(r'[^\\w\\s]', '', crime)\n",
        "    crime = re.sub(r'\\s+', ' ', crime)\n",
        "    return crime.strip()\n",
        "\n",
        "dr['Processed Crime Type'] = dr['crimeType'].apply(preprocess_crime)\n"
      ],
      "metadata": {
        "id": "iMD1Lvsr31iq"
      },
      "execution_count": 14,
      "outputs": []
    },
    {
      "cell_type": "code",
      "source": [
        "from sentence_transformers import SentenceTransformer\n",
        "\n",
        "model = SentenceTransformer('all-MiniLM-L6-v2')\n",
        "crime_embeddings = model.encode(dr['Processed Crime Type'].tolist())\n"
      ],
      "metadata": {
        "colab": {
          "base_uri": "https://localhost:8080/"
        },
        "id": "3KFukkyF34uZ",
        "outputId": "5d469d0f-959b-47b5-9fe2-d6114eb876fa"
      },
      "execution_count": 15,
      "outputs": [
        {
          "output_type": "stream",
          "name": "stderr",
          "text": [
            "/usr/local/lib/python3.10/dist-packages/sentence_transformers/cross_encoder/CrossEncoder.py:13: TqdmExperimentalWarning: Using `tqdm.autonotebook.tqdm` in notebook mode. Use `tqdm.tqdm` instead to force console mode (e.g. in jupyter console)\n",
            "  from tqdm.autonotebook import tqdm, trange\n",
            "/usr/local/lib/python3.10/dist-packages/huggingface_hub/utils/_auth.py:94: UserWarning: \n",
            "The secret `HF_TOKEN` does not exist in your Colab secrets.\n",
            "To authenticate with the Hugging Face Hub, create a token in your settings tab (https://huggingface.co/settings/tokens), set it as secret in your Google Colab and restart your session.\n",
            "You will be able to reuse this secret in all of your notebooks.\n",
            "Please note that authentication is recommended but still optional to access public models or datasets.\n",
            "  warnings.warn(\n"
          ]
        }
      ]
    },
    {
      "cell_type": "code",
      "source": [
        "from sklearn.cluster import KMeans\n",
        "\n",
        "n_clusters = 25\n",
        "kmeans = KMeans(n_clusters=n_clusters, random_state=42)\n",
        "dr['Cluster'] = kmeans.fit_predict(crime_embeddings)\n"
      ],
      "metadata": {
        "id": "WrAmAr9u4dIG"
      },
      "execution_count": 16,
      "outputs": []
    },
    {
      "cell_type": "code",
      "source": [
        "dr.to_csv('clustered_crime_types.csv', index=False)\n",
        "print(dr.groupby('Cluster')['Processed Crime Type'].apply(list))\n"
      ],
      "metadata": {
        "colab": {
          "base_uri": "https://localhost:8080/"
        },
        "id": "rmcn7eWG4yWV",
        "outputId": "53c7a8b0-24cc-4410-eb15-51ecc058a49b"
      },
      "execution_count": 18,
      "outputs": [
        {
          "output_type": "stream",
          "name": "stdout",
          "text": [
            "Cluster\n",
            "0     [other all other offenses, other all other off...\n",
            "1     [other assaults not aggravated, other assaults...\n",
            "2     [theft theft from motor vehicle, theft theft f...\n",
            "3     [vandalism vandalism, vandalism vandalism, van...\n",
            "4     [assault other assaults, assault other assault...\n",
            "5     [theft shoplifting, theft shoplifting, theft s...\n",
            "6     [drug narcotic violations, drug narcotic viola...\n",
            "7     [burglary forcible entry, burglary forcible en...\n",
            "8     [fraud embezzlement, fraud other fraud, fraud ...\n",
            "9     [drug abuse violations, drug abuse violations ...\n",
            "10    [all other larceny, all other larceny, all oth...\n",
            "11    [destruction damage vandalism of property, des...\n",
            "12    [other dui, other dui, other dui, other dui, o...\n",
            "13    [weapons carrying possessing etc, weapons carr...\n",
            "14    [simple assault, simple assault, simple assaul...\n",
            "15    [motor veh theft trucks and buses, motor veh t...\n",
            "16    [robbery strongarm, robbery firearm, assault s...\n",
            "17    [other stolen property, other stolen property,...\n",
            "18    [driving under the influence, driving under th...\n",
            "19    [theft theft of motor vehicle parts or accesso...\n",
            "20    [falsepretenses swindle confidencegame, falsep...\n",
            "21    [trespass of real property, trespass of real p...\n",
            "22    [theft all other larceny, theft all other larc...\n",
            "23    [fraud forgery counterfeiting, fraud forgery c...\n",
            "24    [sex crimes sex offenses, sex crimes sex offen...\n",
            "Name: Processed Crime Type, dtype: object\n"
          ]
        }
      ]
    },
    {
      "cell_type": "code",
      "source": [
        "cluster_names = {\n",
        "    0: 'Other Crimes',\n",
        "    1: 'Assaults',\n",
        "    2: 'Motor Vehicle Theft',\n",
        "    3: 'Vandalism',\n",
        "    4: 'Fraud/Financial Crimes',\n",
        "    5: 'Drug Violations',\n",
        "    6: 'Vandalism',\n",
        "    7: 'Physical Assaults',\n",
        "    8: 'Burglary',\n",
        "    9: 'Larceny',\n",
        "    10: 'Stolen Property',\n",
        "    11: 'Shoplifting',\n",
        "    12: 'DUI/Alcohol Offenses',\n",
        "    13: 'Weapons Offenses',\n",
        "    14: 'Vehicle Theft',\n",
        "    15: 'Sexual Assault',\n",
        "    16: 'Shoplifting',\n",
        "    17: 'Robbery',\n",
        "    18: 'Narcotics',\n",
        "    19: 'Theft',\n",
        "    20: 'Public Disturbance',\n",
        "    21: 'Forgery/Counterfeiting',\n",
        "    22: 'Vehicle Part Theft',\n",
        "    23: 'DUI/Alcohol Offenses',\n",
        "    24: 'Prostitution/Vice',\n",
        "}\n",
        "\n",
        "dr['Cluster Name'] = dr['Cluster'].map(cluster_names)"
      ],
      "metadata": {
        "id": "S3yWIY2s7rlI"
      },
      "execution_count": 19,
      "outputs": []
    },
    {
      "cell_type": "code",
      "source": [
        "dr.to_csv('clusterriverside.csv')"
      ],
      "metadata": {
        "id": "7ottclYAHvQR"
      },
      "execution_count": 21,
      "outputs": []
    },
    {
      "cell_type": "code",
      "source": [
        "print(f\"Crime Embeddings Shape: {crime_embeddings.shape}\")\n",
        "print(f\"DataFrame Shape: {dl.shape}\")\n"
      ],
      "metadata": {
        "colab": {
          "base_uri": "https://localhost:8080/"
        },
        "id": "E-0LuT3xCknS",
        "outputId": "89302a36-8c4f-4d40-db59-52682de54268"
      },
      "execution_count": 20,
      "outputs": [
        {
          "output_type": "stream",
          "name": "stdout",
          "text": [
            "Crime Embeddings Shape: (148761, 384)\n",
            "DataFrame Shape: (986873, 28)\n"
          ]
        }
      ]
    },
    {
      "cell_type": "code",
      "source": [
        "dl['Processed Crime Type'] = dl['crimeType'].apply(preprocess_crime)\n",
        "model = SentenceTransformer('all-MiniLM-L6-v2')\n",
        "crime_embeddings_new = model.encode(dl['Processed Crime Type'].tolist())\n",
        "n_clusters = 25\n",
        "kmeans = KMeans(n_clusters=n_clusters, random_state=42)\n",
        "dl['Cluster'] = kmeans.fit_predict(crime_embeddings_new)\n",
        "print(dl.groupby('Cluster')['Processed Crime Type'].apply(list))"
      ],
      "metadata": {
        "colab": {
          "base_uri": "https://localhost:8080/"
        },
        "id": "V1AAQGmhH89I",
        "outputId": "0bdfb384-ee7c-4534-e1ae-ccbb776c9053"
      },
      "execution_count": 23,
      "outputs": [
        {
          "output_type": "stream",
          "name": "stdout",
          "text": [
            "Cluster\n",
            "0     [burglary from vehicle, burglary from vehicle,...\n",
            "1     [theft plain petty 950 under, theft plain pett...\n",
            "2     [battery simple assault, battery simple assaul...\n",
            "3     [theft of identity, theft of identity, theft o...\n",
            "4     [vandalism felony 400 over all church vandalis...\n",
            "5     [vehicle stolen, bike stolen, vehicle stolen, ...\n",
            "6     [robbery, robbery, robbery, robbery, robbery, ...\n",
            "7     [intimate partner aggravated assault, intimate...\n",
            "8     [assault with deadly weapon aggravated assault...\n",
            "9     [theftgrand 95001 overexcptgunsfowllivestkprod...\n",
            "10    [intimate partner simple assault, intimate par...\n",
            "11    [violation of restraining order, violation of ...\n",
            "12    [theft from motor vehicle grand 95001 and over...\n",
            "13    [burglary, burglary, burglary, burglary, burgl...\n",
            "14    [criminal threats no weapon displayed, crimina...\n",
            "15    [shopliftinggrand theft 95001 over, shopliftin...\n",
            "16    [brandish weapon, brandish weapon, discharge f...\n",
            "17    [vandalism misdeameanor 399 or under, vandalis...\n",
            "18    [letters lewd telephone calls lewd, letters le...\n",
            "19    [violation of court order, violation of court ...\n",
            "20    [bunco grand theft, bunco grand theft, bunco g...\n",
            "21    [trespassing, trespassing, trespassing, trespa...\n",
            "22    [theft from motor vehicle petty 950 under, the...\n",
            "23    [oral copulation, sexual penetration wforeign ...\n",
            "24    [arson, pimping, pandering, other miscellaneou...\n",
            "Name: Processed Crime Type, dtype: object\n"
          ]
        }
      ]
    },
    {
      "cell_type": "code",
      "source": [
        "# Define the cluster names dictionary\n",
        "cluster_names = {\n",
        "    0: 'Other Crimes',\n",
        "    1: 'Assaults',\n",
        "    2: 'Motor Vehicle Theft',\n",
        "    3: 'Vandalism',\n",
        "    4: 'Fraud/Financial Crimes',\n",
        "    5: 'Drug Violations',\n",
        "    6: 'Vandalism',\n",
        "    7: 'Physical Assaults',\n",
        "    8: 'Burglary',\n",
        "    9: 'Larceny',\n",
        "    10: 'Stolen Property',\n",
        "    11: 'Shoplifting',\n",
        "    12: 'DUI/Alcohol Offenses',\n",
        "    13: 'Weapons Offenses',\n",
        "    14: 'Vehicle Theft',\n",
        "    15: 'Sexual Assault',\n",
        "    16: 'Shoplifting',\n",
        "    17: 'Robbery',\n",
        "    18: 'Narcotics',\n",
        "    19: 'Theft',\n",
        "    20: 'Public Disturbance',\n",
        "    21: 'Forgery/Counterfeiting',\n",
        "    22: 'Vehicle Part Theft',\n",
        "    23: 'DUI/Alcohol Offenses',\n",
        "    24: 'Prostitution/Vice',\n",
        "}\n",
        "\n",
        "dl['Cluster Name'] = dl['Cluster'].map(cluster_names)\n"
      ],
      "metadata": {
        "id": "DhM8igL3eZtp"
      },
      "execution_count": 27,
      "outputs": []
    },
    {
      "cell_type": "code",
      "source": [
        "dl.to_csv('lacluster.csv')"
      ],
      "metadata": {
        "id": "nkF-bYeFglI3"
      },
      "execution_count": 28,
      "outputs": []
    }
  ]
}